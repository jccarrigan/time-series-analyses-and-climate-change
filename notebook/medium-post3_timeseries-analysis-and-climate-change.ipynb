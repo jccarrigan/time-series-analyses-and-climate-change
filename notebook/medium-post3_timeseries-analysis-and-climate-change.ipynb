{
 "cells": [
  {
   "cell_type": "markdown",
   "source": [
    "# Imports"
   ],
   "metadata": {
    "collapsed": false
   }
  },
  {
   "cell_type": "code",
   "execution_count": 1,
   "metadata": {},
   "outputs": [
    {
     "data": {
      "text/html": [
       "<script type=\"text/javascript\">window.PlotlyConfig = {MathJaxConfig: 'local'};</script><script type=\"text/javascript\">if (window.MathJax) {MathJax.Hub.Config({SVG: {font: \"STIX-Web\"}});}</script><script>requirejs.config({paths: { 'plotly': ['https://cdn.plot.ly/plotly-latest.min']},});if(!window._Plotly) {require(['plotly'],function(plotly) {window._Plotly=plotly;});}</script>"
      ],
      "text/vnd.plotly.v1+html": [
       "<script type=\"text/javascript\">window.PlotlyConfig = {MathJaxConfig: 'local'};</script><script type=\"text/javascript\">if (window.MathJax) {MathJax.Hub.Config({SVG: {font: \"STIX-Web\"}});}</script><script>requirejs.config({paths: { 'plotly': ['https://cdn.plot.ly/plotly-latest.min']},});if(!window._Plotly) {require(['plotly'],function(plotly) {window._Plotly=plotly;});}</script>"
      ]
     },
     "metadata": {},
     "output_type": "display_data"
    },
    {
     "data": {
      "text/html": [
       "<script type=\"text/javascript\">window.PlotlyConfig = {MathJaxConfig: 'local'};</script><script type=\"text/javascript\">if (window.MathJax) {MathJax.Hub.Config({SVG: {font: \"STIX-Web\"}});}</script><script>requirejs.config({paths: { 'plotly': ['https://cdn.plot.ly/plotly-latest.min']},});if(!window._Plotly) {require(['plotly'],function(plotly) {window._Plotly=plotly;});}</script>"
      ],
      "text/vnd.plotly.v1+html": [
       "<script type=\"text/javascript\">window.PlotlyConfig = {MathJaxConfig: 'local'};</script><script type=\"text/javascript\">if (window.MathJax) {MathJax.Hub.Config({SVG: {font: \"STIX-Web\"}});}</script><script>requirejs.config({paths: { 'plotly': ['https://cdn.plot.ly/plotly-latest.min']},});if(!window._Plotly) {require(['plotly'],function(plotly) {window._Plotly=plotly;});}</script>"
      ]
     },
     "metadata": {},
     "output_type": "display_data"
    }
   ],
   "source": [
    "import pandas as pd\n",
    "import numpy as np\n",
    "import calendar\n",
    "from datetime import datetime\n",
    "import matplotlib.pyplot as plt\n",
    "%matplotlib inline\n",
    "\n",
    "# Facebook's Prophet forecasting library\n",
    "from fbprophet import Prophet\n",
    "\n",
    "# Standard plotly imports\n",
    "import plotly.plotly as py\n",
    "import plotly.graph_objs as go\n",
    "from plotly.offline import iplot, init_notebook_mode\n",
    "# Using plotly + cufflinks in offline mode\n",
    "import cufflinks\n",
    "cufflinks.go_offline(connected=True)\n",
    "init_notebook_mode(connected=True)"
   ]
  },
  {
   "cell_type": "markdown",
   "metadata": {},
   "source": [
    "# Pulling the data"
   ]
  },
  {
   "cell_type": "code",
   "execution_count": 2,
   "metadata": {},
   "outputs": [],
   "source": [
    "# Read in the raw temperature and emissions datasets (they are in CSV format) \n",
    "raw_t = pd.read_csv('./data/GLB.Ts+dSST.csv', skiprows=1)\n",
    "raw_e = pd.read_csv('./data/API_EN.ATM.CO2E.PC_DS2_en_csv_v2_10515380.csv', skiprows=3)"
   ]
  },
  {
   "cell_type": "code",
   "execution_count": 3,
   "metadata": {},
   "outputs": [
    {
     "data": {
      "text/html": [
       "<div>\n",
       "<style scoped>\n",
       "    .dataframe tbody tr th:only-of-type {\n",
       "        vertical-align: middle;\n",
       "    }\n",
       "\n",
       "    .dataframe tbody tr th {\n",
       "        vertical-align: top;\n",
       "    }\n",
       "\n",
       "    .dataframe thead th {\n",
       "        text-align: right;\n",
       "    }\n",
       "</style>\n",
       "<table border=\"1\" class=\"dataframe\">\n",
       "  <thead>\n",
       "    <tr style=\"text-align: right;\">\n",
       "      <th></th>\n",
       "      <th>Year</th>\n",
       "      <th>Jan</th>\n",
       "      <th>Feb</th>\n",
       "      <th>Mar</th>\n",
       "      <th>Apr</th>\n",
       "      <th>May</th>\n",
       "      <th>Jun</th>\n",
       "      <th>Jul</th>\n",
       "      <th>Aug</th>\n",
       "      <th>Sep</th>\n",
       "      <th>Oct</th>\n",
       "      <th>Nov</th>\n",
       "      <th>Dec</th>\n",
       "      <th>J-D</th>\n",
       "      <th>D-N</th>\n",
       "      <th>DJF</th>\n",
       "      <th>MAM</th>\n",
       "      <th>JJA</th>\n",
       "      <th>SON</th>\n",
       "    </tr>\n",
       "  </thead>\n",
       "  <tbody>\n",
       "    <tr>\n",
       "      <th>0</th>\n",
       "      <td>1880</td>\n",
       "      <td>-0.29</td>\n",
       "      <td>-0.18</td>\n",
       "      <td>-.11</td>\n",
       "      <td>-.19</td>\n",
       "      <td>-.11</td>\n",
       "      <td>-.23</td>\n",
       "      <td>-.21</td>\n",
       "      <td>-.09</td>\n",
       "      <td>-.16</td>\n",
       "      <td>-.23</td>\n",
       "      <td>-.20</td>\n",
       "      <td>-.22</td>\n",
       "      <td>-.18</td>\n",
       "      <td>***</td>\n",
       "      <td>***</td>\n",
       "      <td>-.14</td>\n",
       "      <td>-.18</td>\n",
       "      <td>-.19</td>\n",
       "    </tr>\n",
       "    <tr>\n",
       "      <th>1</th>\n",
       "      <td>1881</td>\n",
       "      <td>-0.15</td>\n",
       "      <td>-0.17</td>\n",
       "      <td>.04</td>\n",
       "      <td>.04</td>\n",
       "      <td>.02</td>\n",
       "      <td>-.20</td>\n",
       "      <td>-.06</td>\n",
       "      <td>-.02</td>\n",
       "      <td>-.13</td>\n",
       "      <td>-.20</td>\n",
       "      <td>-.21</td>\n",
       "      <td>-.10</td>\n",
       "      <td>-.09</td>\n",
       "      <td>-.10</td>\n",
       "      <td>-.18</td>\n",
       "      <td>.04</td>\n",
       "      <td>-.09</td>\n",
       "      <td>-.18</td>\n",
       "    </tr>\n",
       "    <tr>\n",
       "      <th>2</th>\n",
       "      <td>1882</td>\n",
       "      <td>0.15</td>\n",
       "      <td>0.15</td>\n",
       "      <td>.04</td>\n",
       "      <td>-.18</td>\n",
       "      <td>-.15</td>\n",
       "      <td>-.25</td>\n",
       "      <td>-.20</td>\n",
       "      <td>-.05</td>\n",
       "      <td>-.10</td>\n",
       "      <td>-.24</td>\n",
       "      <td>-.15</td>\n",
       "      <td>-.24</td>\n",
       "      <td>-.10</td>\n",
       "      <td>-.09</td>\n",
       "      <td>.07</td>\n",
       "      <td>-.10</td>\n",
       "      <td>-.17</td>\n",
       "      <td>-.16</td>\n",
       "    </tr>\n",
       "    <tr>\n",
       "      <th>3</th>\n",
       "      <td>1883</td>\n",
       "      <td>-0.31</td>\n",
       "      <td>-0.38</td>\n",
       "      <td>-.12</td>\n",
       "      <td>-.16</td>\n",
       "      <td>-.19</td>\n",
       "      <td>-.12</td>\n",
       "      <td>-.08</td>\n",
       "      <td>-.15</td>\n",
       "      <td>-.20</td>\n",
       "      <td>-.14</td>\n",
       "      <td>-.22</td>\n",
       "      <td>-.15</td>\n",
       "      <td>-.19</td>\n",
       "      <td>-.19</td>\n",
       "      <td>-.31</td>\n",
       "      <td>-.16</td>\n",
       "      <td>-.11</td>\n",
       "      <td>-.19</td>\n",
       "    </tr>\n",
       "    <tr>\n",
       "      <th>4</th>\n",
       "      <td>1884</td>\n",
       "      <td>-0.15</td>\n",
       "      <td>-0.08</td>\n",
       "      <td>-.37</td>\n",
       "      <td>-.42</td>\n",
       "      <td>-.36</td>\n",
       "      <td>-.40</td>\n",
       "      <td>-.34</td>\n",
       "      <td>-.26</td>\n",
       "      <td>-.27</td>\n",
       "      <td>-.24</td>\n",
       "      <td>-.29</td>\n",
       "      <td>-.28</td>\n",
       "      <td>-.29</td>\n",
       "      <td>-.28</td>\n",
       "      <td>-.13</td>\n",
       "      <td>-.38</td>\n",
       "      <td>-.33</td>\n",
       "      <td>-.27</td>\n",
       "    </tr>\n",
       "  </tbody>\n",
       "</table>\n",
       "</div>"
      ],
      "text/plain": [
       "   Year   Jan   Feb   Mar   Apr   May   Jun   Jul   Aug   Sep   Oct   Nov  \\\n",
       "0  1880 -0.29 -0.18  -.11  -.19  -.11  -.23  -.21  -.09  -.16  -.23  -.20   \n",
       "1  1881 -0.15 -0.17   .04   .04   .02  -.20  -.06  -.02  -.13  -.20  -.21   \n",
       "2  1882  0.15  0.15   .04  -.18  -.15  -.25  -.20  -.05  -.10  -.24  -.15   \n",
       "3  1883 -0.31 -0.38  -.12  -.16  -.19  -.12  -.08  -.15  -.20  -.14  -.22   \n",
       "4  1884 -0.15 -0.08  -.37  -.42  -.36  -.40  -.34  -.26  -.27  -.24  -.29   \n",
       "\n",
       "    Dec   J-D   D-N   DJF   MAM   JJA   SON  \n",
       "0  -.22  -.18   ***   ***  -.14  -.18  -.19  \n",
       "1  -.10  -.09  -.10  -.18   .04  -.09  -.18  \n",
       "2  -.24  -.10  -.09   .07  -.10  -.17  -.16  \n",
       "3  -.15  -.19  -.19  -.31  -.16  -.11  -.19  \n",
       "4  -.28  -.29  -.28  -.13  -.38  -.33  -.27  "
      ]
     },
     "execution_count": 3,
     "metadata": {},
     "output_type": "execute_result"
    }
   ],
   "source": [
    "# Investigate how the raw data looks\n",
    "raw_t.head()"
   ]
  },
  {
   "cell_type": "code",
   "execution_count": 4,
   "metadata": {},
   "outputs": [
    {
     "data": {
      "text/html": [
       "<div>\n",
       "<style scoped>\n",
       "    .dataframe tbody tr th:only-of-type {\n",
       "        vertical-align: middle;\n",
       "    }\n",
       "\n",
       "    .dataframe tbody tr th {\n",
       "        vertical-align: top;\n",
       "    }\n",
       "\n",
       "    .dataframe thead th {\n",
       "        text-align: right;\n",
       "    }\n",
       "</style>\n",
       "<table border=\"1\" class=\"dataframe\">\n",
       "  <thead>\n",
       "    <tr style=\"text-align: right;\">\n",
       "      <th></th>\n",
       "      <th>Country Name</th>\n",
       "      <th>Country Code</th>\n",
       "      <th>Indicator Name</th>\n",
       "      <th>Indicator Code</th>\n",
       "      <th>1960</th>\n",
       "      <th>1961</th>\n",
       "      <th>1962</th>\n",
       "      <th>1963</th>\n",
       "      <th>1964</th>\n",
       "      <th>1965</th>\n",
       "      <th>...</th>\n",
       "      <th>2010</th>\n",
       "      <th>2011</th>\n",
       "      <th>2012</th>\n",
       "      <th>2013</th>\n",
       "      <th>2014</th>\n",
       "      <th>2015</th>\n",
       "      <th>2016</th>\n",
       "      <th>2017</th>\n",
       "      <th>2018</th>\n",
       "      <th>Unnamed: 63</th>\n",
       "    </tr>\n",
       "  </thead>\n",
       "  <tbody>\n",
       "    <tr>\n",
       "      <th>0</th>\n",
       "      <td>Aruba</td>\n",
       "      <td>ABW</td>\n",
       "      <td>CO2 emissions (metric tons per capita)</td>\n",
       "      <td>EN.ATM.CO2E.PC</td>\n",
       "      <td>NaN</td>\n",
       "      <td>NaN</td>\n",
       "      <td>NaN</td>\n",
       "      <td>NaN</td>\n",
       "      <td>NaN</td>\n",
       "      <td>NaN</td>\n",
       "      <td>...</td>\n",
       "      <td>24.670529</td>\n",
       "      <td>24.505835</td>\n",
       "      <td>13.155542</td>\n",
       "      <td>8.351294</td>\n",
       "      <td>8.408363</td>\n",
       "      <td>NaN</td>\n",
       "      <td>NaN</td>\n",
       "      <td>NaN</td>\n",
       "      <td>NaN</td>\n",
       "      <td>NaN</td>\n",
       "    </tr>\n",
       "    <tr>\n",
       "      <th>1</th>\n",
       "      <td>Afghanistan</td>\n",
       "      <td>AFG</td>\n",
       "      <td>CO2 emissions (metric tons per capita)</td>\n",
       "      <td>EN.ATM.CO2E.PC</td>\n",
       "      <td>0.046060</td>\n",
       "      <td>0.053604</td>\n",
       "      <td>0.073765</td>\n",
       "      <td>0.074233</td>\n",
       "      <td>0.086292</td>\n",
       "      <td>0.101467</td>\n",
       "      <td>...</td>\n",
       "      <td>0.293837</td>\n",
       "      <td>0.412017</td>\n",
       "      <td>0.350371</td>\n",
       "      <td>0.315602</td>\n",
       "      <td>0.299445</td>\n",
       "      <td>NaN</td>\n",
       "      <td>NaN</td>\n",
       "      <td>NaN</td>\n",
       "      <td>NaN</td>\n",
       "      <td>NaN</td>\n",
       "    </tr>\n",
       "    <tr>\n",
       "      <th>2</th>\n",
       "      <td>Angola</td>\n",
       "      <td>AGO</td>\n",
       "      <td>CO2 emissions (metric tons per capita)</td>\n",
       "      <td>EN.ATM.CO2E.PC</td>\n",
       "      <td>0.097472</td>\n",
       "      <td>0.079038</td>\n",
       "      <td>0.201289</td>\n",
       "      <td>0.192535</td>\n",
       "      <td>0.201003</td>\n",
       "      <td>0.191528</td>\n",
       "      <td>...</td>\n",
       "      <td>1.243406</td>\n",
       "      <td>1.252789</td>\n",
       "      <td>1.330843</td>\n",
       "      <td>1.254617</td>\n",
       "      <td>1.291328</td>\n",
       "      <td>NaN</td>\n",
       "      <td>NaN</td>\n",
       "      <td>NaN</td>\n",
       "      <td>NaN</td>\n",
       "      <td>NaN</td>\n",
       "    </tr>\n",
       "    <tr>\n",
       "      <th>3</th>\n",
       "      <td>Albania</td>\n",
       "      <td>ALB</td>\n",
       "      <td>CO2 emissions (metric tons per capita)</td>\n",
       "      <td>EN.ATM.CO2E.PC</td>\n",
       "      <td>1.258195</td>\n",
       "      <td>1.374186</td>\n",
       "      <td>1.439956</td>\n",
       "      <td>1.181681</td>\n",
       "      <td>1.111742</td>\n",
       "      <td>1.166099</td>\n",
       "      <td>...</td>\n",
       "      <td>1.578574</td>\n",
       "      <td>1.803715</td>\n",
       "      <td>1.692908</td>\n",
       "      <td>1.749211</td>\n",
       "      <td>1.978763</td>\n",
       "      <td>NaN</td>\n",
       "      <td>NaN</td>\n",
       "      <td>NaN</td>\n",
       "      <td>NaN</td>\n",
       "      <td>NaN</td>\n",
       "    </tr>\n",
       "    <tr>\n",
       "      <th>4</th>\n",
       "      <td>Andorra</td>\n",
       "      <td>AND</td>\n",
       "      <td>CO2 emissions (metric tons per capita)</td>\n",
       "      <td>EN.ATM.CO2E.PC</td>\n",
       "      <td>NaN</td>\n",
       "      <td>NaN</td>\n",
       "      <td>NaN</td>\n",
       "      <td>NaN</td>\n",
       "      <td>NaN</td>\n",
       "      <td>NaN</td>\n",
       "      <td>...</td>\n",
       "      <td>6.122595</td>\n",
       "      <td>5.867130</td>\n",
       "      <td>5.916597</td>\n",
       "      <td>5.900753</td>\n",
       "      <td>5.832170</td>\n",
       "      <td>NaN</td>\n",
       "      <td>NaN</td>\n",
       "      <td>NaN</td>\n",
       "      <td>NaN</td>\n",
       "      <td>NaN</td>\n",
       "    </tr>\n",
       "  </tbody>\n",
       "</table>\n",
       "<p>5 rows × 64 columns</p>\n",
       "</div>"
      ],
      "text/plain": [
       "  Country Name Country Code                          Indicator Name  \\\n",
       "0        Aruba          ABW  CO2 emissions (metric tons per capita)   \n",
       "1  Afghanistan          AFG  CO2 emissions (metric tons per capita)   \n",
       "2       Angola          AGO  CO2 emissions (metric tons per capita)   \n",
       "3      Albania          ALB  CO2 emissions (metric tons per capita)   \n",
       "4      Andorra          AND  CO2 emissions (metric tons per capita)   \n",
       "\n",
       "   Indicator Code      1960      1961      1962      1963      1964      1965  \\\n",
       "0  EN.ATM.CO2E.PC       NaN       NaN       NaN       NaN       NaN       NaN   \n",
       "1  EN.ATM.CO2E.PC  0.046060  0.053604  0.073765  0.074233  0.086292  0.101467   \n",
       "2  EN.ATM.CO2E.PC  0.097472  0.079038  0.201289  0.192535  0.201003  0.191528   \n",
       "3  EN.ATM.CO2E.PC  1.258195  1.374186  1.439956  1.181681  1.111742  1.166099   \n",
       "4  EN.ATM.CO2E.PC       NaN       NaN       NaN       NaN       NaN       NaN   \n",
       "\n",
       "      ...            2010       2011       2012      2013      2014  2015  \\\n",
       "0     ...       24.670529  24.505835  13.155542  8.351294  8.408363   NaN   \n",
       "1     ...        0.293837   0.412017   0.350371  0.315602  0.299445   NaN   \n",
       "2     ...        1.243406   1.252789   1.330843  1.254617  1.291328   NaN   \n",
       "3     ...        1.578574   1.803715   1.692908  1.749211  1.978763   NaN   \n",
       "4     ...        6.122595   5.867130   5.916597  5.900753  5.832170   NaN   \n",
       "\n",
       "   2016  2017  2018  Unnamed: 63  \n",
       "0   NaN   NaN   NaN          NaN  \n",
       "1   NaN   NaN   NaN          NaN  \n",
       "2   NaN   NaN   NaN          NaN  \n",
       "3   NaN   NaN   NaN          NaN  \n",
       "4   NaN   NaN   NaN          NaN  \n",
       "\n",
       "[5 rows x 64 columns]"
      ]
     },
     "execution_count": 4,
     "metadata": {},
     "output_type": "execute_result"
    }
   ],
   "source": [
    "raw_e.head()"
   ]
  },
  {
   "cell_type": "markdown",
   "metadata": {},
   "source": [
    "# Wrangling Time Series Data"
   ]
  },
  {
   "cell_type": "markdown",
   "metadata": {},
   "source": [
    "## Wrangling Temperature"
   ]
  },
  {
   "cell_type": "code",
   "execution_count": 5,
   "metadata": {},
   "outputs": [
    {
     "data": {
      "text/html": [
       "<div>\n",
       "<style scoped>\n",
       "    .dataframe tbody tr th:only-of-type {\n",
       "        vertical-align: middle;\n",
       "    }\n",
       "\n",
       "    .dataframe tbody tr th {\n",
       "        vertical-align: top;\n",
       "    }\n",
       "\n",
       "    .dataframe thead th {\n",
       "        text-align: right;\n",
       "    }\n",
       "</style>\n",
       "<table border=\"1\" class=\"dataframe\">\n",
       "  <thead>\n",
       "    <tr style=\"text-align: right;\">\n",
       "      <th></th>\n",
       "      <th>Avg_Anomaly_deg_C</th>\n",
       "    </tr>\n",
       "    <tr>\n",
       "      <th>date</th>\n",
       "      <th></th>\n",
       "    </tr>\n",
       "  </thead>\n",
       "  <tbody>\n",
       "    <tr>\n",
       "      <th>1880-01-31</th>\n",
       "      <td>None</td>\n",
       "    </tr>\n",
       "    <tr>\n",
       "      <th>1880-02-29</th>\n",
       "      <td>None</td>\n",
       "    </tr>\n",
       "    <tr>\n",
       "      <th>1880-03-31</th>\n",
       "      <td>None</td>\n",
       "    </tr>\n",
       "    <tr>\n",
       "      <th>1880-04-30</th>\n",
       "      <td>None</td>\n",
       "    </tr>\n",
       "    <tr>\n",
       "      <th>1880-05-31</th>\n",
       "      <td>None</td>\n",
       "    </tr>\n",
       "  </tbody>\n",
       "</table>\n",
       "</div>"
      ],
      "text/plain": [
       "           Avg_Anomaly_deg_C\n",
       "date                        \n",
       "1880-01-31              None\n",
       "1880-02-29              None\n",
       "1880-03-31              None\n",
       "1880-04-30              None\n",
       "1880-05-31              None"
      ]
     },
     "execution_count": 5,
     "metadata": {},
     "output_type": "execute_result"
    }
   ],
   "source": [
    "# Create new dataframe with an index for each month\n",
    "# First create the date range\n",
    "date_rng = pd.date_range(start='1/1/1880', end='1/03/2019', freq='M')\n",
    "\n",
    "type(date_rng[0])\n",
    "### returns \n",
    "### pandas._libs.tslibs.timestamps.Timestamp\n",
    "\n",
    "# Next create the empty DataFrame, which we will populate using the actual data\n",
    "t = pd.DataFrame(date_rng, columns=['date'])\n",
    "\n",
    "# Create a column for the anomoly values\n",
    "t['Avg_Anomaly_deg_C'] = None\n",
    "\n",
    "# Set the index of the DataFrame to the date column (DateTime index)\n",
    "t.set_index('date', inplace=True)\n",
    "\n",
    "# Show the first few elements\n",
    "t.head()"
   ]
  },
  {
   "cell_type": "code",
   "execution_count": 6,
   "metadata": {},
   "outputs": [
    {
     "data": {
      "text/html": [
       "<div>\n",
       "<style scoped>\n",
       "    .dataframe tbody tr th:only-of-type {\n",
       "        vertical-align: middle;\n",
       "    }\n",
       "\n",
       "    .dataframe tbody tr th {\n",
       "        vertical-align: top;\n",
       "    }\n",
       "\n",
       "    .dataframe thead th {\n",
       "        text-align: right;\n",
       "    }\n",
       "</style>\n",
       "<table border=\"1\" class=\"dataframe\">\n",
       "  <thead>\n",
       "    <tr style=\"text-align: right;\">\n",
       "      <th></th>\n",
       "      <th>Year</th>\n",
       "      <th>Jan</th>\n",
       "      <th>Feb</th>\n",
       "      <th>Mar</th>\n",
       "      <th>Apr</th>\n",
       "      <th>May</th>\n",
       "      <th>Jun</th>\n",
       "      <th>Jul</th>\n",
       "      <th>Aug</th>\n",
       "      <th>Sep</th>\n",
       "      <th>Oct</th>\n",
       "      <th>Nov</th>\n",
       "      <th>Dec</th>\n",
       "    </tr>\n",
       "  </thead>\n",
       "  <tbody>\n",
       "    <tr>\n",
       "      <th>0</th>\n",
       "      <td>1880</td>\n",
       "      <td>-0.29</td>\n",
       "      <td>-0.18</td>\n",
       "      <td>-.11</td>\n",
       "      <td>-.19</td>\n",
       "      <td>-.11</td>\n",
       "      <td>-.23</td>\n",
       "      <td>-.21</td>\n",
       "      <td>-.09</td>\n",
       "      <td>-.16</td>\n",
       "      <td>-.23</td>\n",
       "      <td>-.20</td>\n",
       "      <td>-.22</td>\n",
       "    </tr>\n",
       "    <tr>\n",
       "      <th>1</th>\n",
       "      <td>1881</td>\n",
       "      <td>-0.15</td>\n",
       "      <td>-0.17</td>\n",
       "      <td>.04</td>\n",
       "      <td>.04</td>\n",
       "      <td>.02</td>\n",
       "      <td>-.20</td>\n",
       "      <td>-.06</td>\n",
       "      <td>-.02</td>\n",
       "      <td>-.13</td>\n",
       "      <td>-.20</td>\n",
       "      <td>-.21</td>\n",
       "      <td>-.10</td>\n",
       "    </tr>\n",
       "    <tr>\n",
       "      <th>2</th>\n",
       "      <td>1882</td>\n",
       "      <td>0.15</td>\n",
       "      <td>0.15</td>\n",
       "      <td>.04</td>\n",
       "      <td>-.18</td>\n",
       "      <td>-.15</td>\n",
       "      <td>-.25</td>\n",
       "      <td>-.20</td>\n",
       "      <td>-.05</td>\n",
       "      <td>-.10</td>\n",
       "      <td>-.24</td>\n",
       "      <td>-.15</td>\n",
       "      <td>-.24</td>\n",
       "    </tr>\n",
       "    <tr>\n",
       "      <th>3</th>\n",
       "      <td>1883</td>\n",
       "      <td>-0.31</td>\n",
       "      <td>-0.38</td>\n",
       "      <td>-.12</td>\n",
       "      <td>-.16</td>\n",
       "      <td>-.19</td>\n",
       "      <td>-.12</td>\n",
       "      <td>-.08</td>\n",
       "      <td>-.15</td>\n",
       "      <td>-.20</td>\n",
       "      <td>-.14</td>\n",
       "      <td>-.22</td>\n",
       "      <td>-.15</td>\n",
       "    </tr>\n",
       "    <tr>\n",
       "      <th>4</th>\n",
       "      <td>1884</td>\n",
       "      <td>-0.15</td>\n",
       "      <td>-0.08</td>\n",
       "      <td>-.37</td>\n",
       "      <td>-.42</td>\n",
       "      <td>-.36</td>\n",
       "      <td>-.40</td>\n",
       "      <td>-.34</td>\n",
       "      <td>-.26</td>\n",
       "      <td>-.27</td>\n",
       "      <td>-.24</td>\n",
       "      <td>-.29</td>\n",
       "      <td>-.28</td>\n",
       "    </tr>\n",
       "  </tbody>\n",
       "</table>\n",
       "</div>"
      ],
      "text/plain": [
       "   Year   Jan   Feb   Mar   Apr   May   Jun   Jul   Aug   Sep   Oct   Nov  \\\n",
       "0  1880 -0.29 -0.18  -.11  -.19  -.11  -.23  -.21  -.09  -.16  -.23  -.20   \n",
       "1  1881 -0.15 -0.17   .04   .04   .02  -.20  -.06  -.02  -.13  -.20  -.21   \n",
       "2  1882  0.15  0.15   .04  -.18  -.15  -.25  -.20  -.05  -.10  -.24  -.15   \n",
       "3  1883 -0.31 -0.38  -.12  -.16  -.19  -.12  -.08  -.15  -.20  -.14  -.22   \n",
       "4  1884 -0.15 -0.08  -.37  -.42  -.36  -.40  -.34  -.26  -.27  -.24  -.29   \n",
       "\n",
       "    Dec  \n",
       "0  -.22  \n",
       "1  -.10  \n",
       "2  -.24  \n",
       "3  -.15  \n",
       "4  -.28  "
      ]
     },
     "execution_count": 6,
     "metadata": {},
     "output_type": "execute_result"
    }
   ],
   "source": [
    "# We only want the monthly data, lets only select that and leave out the seasonal columns \n",
    "raw_t = raw_t.iloc[:,:13]\n",
    "raw_t.head()"
   ]
  },
  {
   "cell_type": "code",
   "execution_count": 7,
   "metadata": {},
   "outputs": [
    {
     "data": {
      "text/html": [
       "<div>\n",
       "<style scoped>\n",
       "    .dataframe tbody tr th:only-of-type {\n",
       "        vertical-align: middle;\n",
       "    }\n",
       "\n",
       "    .dataframe tbody tr th {\n",
       "        vertical-align: top;\n",
       "    }\n",
       "\n",
       "    .dataframe thead th {\n",
       "        text-align: right;\n",
       "    }\n",
       "</style>\n",
       "<table border=\"1\" class=\"dataframe\">\n",
       "  <thead>\n",
       "    <tr style=\"text-align: right;\">\n",
       "      <th></th>\n",
       "      <th>Avg_Anomaly_deg_C</th>\n",
       "    </tr>\n",
       "    <tr>\n",
       "      <th>date</th>\n",
       "      <th></th>\n",
       "    </tr>\n",
       "  </thead>\n",
       "  <tbody>\n",
       "    <tr>\n",
       "      <th>1880-01-31</th>\n",
       "      <td>-0.29</td>\n",
       "    </tr>\n",
       "    <tr>\n",
       "      <th>1880-02-29</th>\n",
       "      <td>-0.18</td>\n",
       "    </tr>\n",
       "    <tr>\n",
       "      <th>1880-03-31</th>\n",
       "      <td>-.11</td>\n",
       "    </tr>\n",
       "    <tr>\n",
       "      <th>1880-04-30</th>\n",
       "      <td>-.19</td>\n",
       "    </tr>\n",
       "    <tr>\n",
       "      <th>1880-05-31</th>\n",
       "      <td>-.11</td>\n",
       "    </tr>\n",
       "  </tbody>\n",
       "</table>\n",
       "</div>"
      ],
      "text/plain": [
       "           Avg_Anomaly_deg_C\n",
       "date                        \n",
       "1880-01-31             -0.29\n",
       "1880-02-29             -0.18\n",
       "1880-03-31              -.11\n",
       "1880-04-30              -.19\n",
       "1880-05-31              -.11"
      ]
     },
     "execution_count": 7,
     "metadata": {},
     "output_type": "execute_result"
    }
   ],
   "source": [
    "# Import relevant libraries\n",
    "import calendar\n",
    "from datetime import datetime\n",
    "\n",
    "# Function definition\n",
    "def populate_df_with_anomolies_from_row(row):\n",
    "    year = row['Year']\n",
    "    # Anomaly values (they seem to be a mixture of strings and floats)\n",
    "    monthly_anomolies = row.iloc[1:]\n",
    "    # Abbreviated month names (index names)\n",
    "    months = monthly_anomolies.index\n",
    "    for month in monthly_anomolies.index:\n",
    "        # Get the last day for each month \n",
    "        last_day = calendar.monthrange(year,datetime.strptime(month, '%b').month)[1]\n",
    "        # construct the index with which we can reference our new DataFrame (to populate) \n",
    "        date_index = datetime.strptime(f'{year} {month} {last_day}', '%Y %b %d')\n",
    "        # Populate / set value @ above index, to anomaly value\n",
    "        t.loc[date_index] = monthly_anomolies[month]\n",
    "\n",
    "# Apply function to each row of raw data \n",
    "_ = raw_t.apply(lambda row: populate_df_with_anomolies_from_row(row), axis=1)\n",
    "\n",
    "# Show the first few elements of our newly populated DataFrame\n",
    "t.head()"
   ]
  },
  {
   "cell_type": "code",
   "execution_count": 8,
   "metadata": {},
   "outputs": [
    {
     "data": {
      "text/html": [
       "<div>\n",
       "<style scoped>\n",
       "    .dataframe tbody tr th:only-of-type {\n",
       "        vertical-align: middle;\n",
       "    }\n",
       "\n",
       "    .dataframe tbody tr th {\n",
       "        vertical-align: top;\n",
       "    }\n",
       "\n",
       "    .dataframe thead th {\n",
       "        text-align: right;\n",
       "    }\n",
       "</style>\n",
       "<table border=\"1\" class=\"dataframe\">\n",
       "  <thead>\n",
       "    <tr style=\"text-align: right;\">\n",
       "      <th></th>\n",
       "      <th>Avg_Anomaly_deg_C</th>\n",
       "    </tr>\n",
       "    <tr>\n",
       "      <th>date</th>\n",
       "      <th></th>\n",
       "    </tr>\n",
       "  </thead>\n",
       "  <tbody>\n",
       "    <tr>\n",
       "      <th>1880-01-31</th>\n",
       "      <td>-0.29</td>\n",
       "    </tr>\n",
       "    <tr>\n",
       "      <th>1880-02-29</th>\n",
       "      <td>-0.18</td>\n",
       "    </tr>\n",
       "    <tr>\n",
       "      <th>1880-03-31</th>\n",
       "      <td>-0.11</td>\n",
       "    </tr>\n",
       "    <tr>\n",
       "      <th>1880-04-30</th>\n",
       "      <td>-0.19</td>\n",
       "    </tr>\n",
       "    <tr>\n",
       "      <th>1880-05-31</th>\n",
       "      <td>-0.11</td>\n",
       "    </tr>\n",
       "  </tbody>\n",
       "</table>\n",
       "</div>"
      ],
      "text/plain": [
       "            Avg_Anomaly_deg_C\n",
       "date                         \n",
       "1880-01-31              -0.29\n",
       "1880-02-29              -0.18\n",
       "1880-03-31              -0.11\n",
       "1880-04-30              -0.19\n",
       "1880-05-31              -0.11"
      ]
     },
     "execution_count": 8,
     "metadata": {},
     "output_type": "execute_result"
    }
   ],
   "source": [
    "# Import Numpy, as library meant for large arrays - we will use it that we \n",
    "import numpy as np\n",
    "\n",
    "# Define function to convert values to floats, and return a 'NaN = Not a Number' if this is not possible\n",
    "def clean_anomaly_value(raw_value):\n",
    "    try:\n",
    "        return float(raw_value)\n",
    "    except:\n",
    "        return np.NaN\n",
    "    \n",
    "# Apply above function to all anomaly values in DataFrame\n",
    "t['Avg_Anomaly_deg_C'] = t['Avg_Anomaly_deg_C'].apply(lambda raw_value: clean_anomaly_value(raw_value))\n",
    "\n",
    "# 'Forward fill' to take care of NaN values\n",
    "t.fillna(method='ffill', inplace=True)\n",
    "\n",
    "# Show the first few elements of our newly cleaned DataFrame\n",
    "t.head()"
   ]
  },
  {
   "cell_type": "code",
   "execution_count": 9,
   "metadata": {},
   "outputs": [
    {
     "data": {
      "text/plain": [
       "[<matplotlib.lines.Line2D at 0x108afcfd0>]"
      ]
     },
     "execution_count": 9,
     "metadata": {},
     "output_type": "execute_result"
    },
    {
     "data": {
      "image/png": "[encoded data removed]",
      "text/plain": [
       "<Figure size 720x576 with 1 Axes>"
      ]
     },
     "metadata": {
      "needs_background": "light"
     },
     "output_type": "display_data"
    }
   ],
   "source": [
    "# Plot the data - quick and easy - using matplotlib, we will draw prettier graphs later\n",
    "\n",
    "# Import Matplotlib\n",
    "import matplotlib.pyplot as plt\n",
    "# Allow for rendering within notebook\n",
    "%matplotlib inline\n",
    "\n",
    "# Create figure, title and plot data\n",
    "plt.figure(figsize=(10,8))\n",
    "plt.xlabel('Time')\n",
    "plt.ylabel('Temperature Anomaly (°Celsius)')\n",
    "plt.plot(t, color='#1C7C54', linewidth=1.0)"
   ]
  },
  {
   "cell_type": "code",
   "execution_count": 10,
   "metadata": {},
   "outputs": [
    {
     "data": {
      "text/html": [
       "<div>\n",
       "<style scoped>\n",
       "    .dataframe tbody tr th:only-of-type {\n",
       "        vertical-align: middle;\n",
       "    }\n",
       "\n",
       "    .dataframe tbody tr th {\n",
       "        vertical-align: top;\n",
       "    }\n",
       "\n",
       "    .dataframe thead th {\n",
       "        text-align: right;\n",
       "    }\n",
       "</style>\n",
       "<table border=\"1\" class=\"dataframe\">\n",
       "  <thead>\n",
       "    <tr style=\"text-align: right;\">\n",
       "      <th></th>\n",
       "      <th>Avg_Anomaly_deg_C</th>\n",
       "    </tr>\n",
       "    <tr>\n",
       "      <th>date</th>\n",
       "      <th></th>\n",
       "    </tr>\n",
       "  </thead>\n",
       "  <tbody>\n",
       "    <tr>\n",
       "      <th>1880-12-31</th>\n",
       "      <td>-0.185000</td>\n",
       "    </tr>\n",
       "    <tr>\n",
       "      <th>1881-12-31</th>\n",
       "      <td>-0.095000</td>\n",
       "    </tr>\n",
       "    <tr>\n",
       "      <th>1882-12-31</th>\n",
       "      <td>-0.101667</td>\n",
       "    </tr>\n",
       "    <tr>\n",
       "      <th>1883-12-31</th>\n",
       "      <td>-0.185000</td>\n",
       "    </tr>\n",
       "    <tr>\n",
       "      <th>1884-12-31</th>\n",
       "      <td>-0.288333</td>\n",
       "    </tr>\n",
       "  </tbody>\n",
       "</table>\n",
       "</div>"
      ],
      "text/plain": [
       "            Avg_Anomaly_deg_C\n",
       "date                         \n",
       "1880-12-31          -0.185000\n",
       "1881-12-31          -0.095000\n",
       "1882-12-31          -0.101667\n",
       "1883-12-31          -0.185000\n",
       "1884-12-31          -0.288333"
      ]
     },
     "execution_count": 10,
     "metadata": {},
     "output_type": "execute_result"
    }
   ],
   "source": [
    "# The data can be resampled to a different frequency, \n",
    "# lets resample it to years (end-of-year):\n",
    "t.resample('A').mean().head()"
   ]
  },
  {
   "cell_type": "code",
   "execution_count": 11,
   "metadata": {},
   "outputs": [
    {
     "data": {
      "text/plain": [
       "[<matplotlib.lines.Line2D at 0x1116fae10>]"
      ]
     },
     "execution_count": 11,
     "metadata": {},
     "output_type": "execute_result"
    },
    {
     "data": {
      "image/png": "[encoded data removed]",
      "text/plain": [
       "<Figure size 720x576 with 1 Axes>"
      ]
     },
     "metadata": {
      "needs_background": "light"
     },
     "output_type": "display_data"
    }
   ],
   "source": [
    "# Now lets visualize our resampled DataFrame\n",
    "\n",
    "# Import Matplotlib\n",
    "import matplotlib.pyplot as plt\n",
    "# Allow for rendering within notebook\n",
    "%matplotlib inline\n",
    "# Create figure, title and plot resampled data\n",
    "plt.figure(figsize=(10,8))\n",
    "plt.xlabel('Time')\n",
    "plt.ylabel('Temperature Anomaly (°Celsius)')\n",
    "plt.plot(t.resample('A').mean(), color='#1C7C54', linewidth=1.0)"
   ]
  },
  {
   "cell_type": "markdown",
   "metadata": {},
   "source": [
    "## Wrangling Emissions"
   ]
  },
  {
   "cell_type": "code",
   "execution_count": 12,
   "metadata": {},
   "outputs": [
    {
     "data": {
      "text/html": [
       "<div>\n",
       "<style scoped>\n",
       "    .dataframe tbody tr th:only-of-type {\n",
       "        vertical-align: middle;\n",
       "    }\n",
       "\n",
       "    .dataframe tbody tr th {\n",
       "        vertical-align: top;\n",
       "    }\n",
       "\n",
       "    .dataframe thead th {\n",
       "        text-align: right;\n",
       "    }\n",
       "</style>\n",
       "<table border=\"1\" class=\"dataframe\">\n",
       "  <thead>\n",
       "    <tr style=\"text-align: right;\">\n",
       "      <th></th>\n",
       "      <th>Global CO2 Emissions per Capita</th>\n",
       "    </tr>\n",
       "    <tr>\n",
       "      <th>date</th>\n",
       "      <th></th>\n",
       "    </tr>\n",
       "  </thead>\n",
       "  <tbody>\n",
       "    <tr>\n",
       "      <th>1960-12-31</th>\n",
       "      <td>3.099013</td>\n",
       "    </tr>\n",
       "    <tr>\n",
       "      <th>1961-12-31</th>\n",
       "      <td>3.069727</td>\n",
       "    </tr>\n",
       "    <tr>\n",
       "      <th>1962-12-31</th>\n",
       "      <td>3.140511</td>\n",
       "    </tr>\n",
       "    <tr>\n",
       "      <th>1963-12-31</th>\n",
       "      <td>3.244499</td>\n",
       "    </tr>\n",
       "    <tr>\n",
       "      <th>1964-12-31</th>\n",
       "      <td>3.360596</td>\n",
       "    </tr>\n",
       "  </tbody>\n",
       "</table>\n",
       "</div>"
      ],
      "text/plain": [
       "            Global CO2 Emissions per Capita\n",
       "date                                       \n",
       "1960-12-31                         3.099013\n",
       "1961-12-31                         3.069727\n",
       "1962-12-31                         3.140511\n",
       "1963-12-31                         3.244499\n",
       "1964-12-31                         3.360596"
      ]
     },
     "execution_count": 12,
     "metadata": {},
     "output_type": "execute_result"
    }
   ],
   "source": [
    "# Define function to pull value from raw data, using DateIndex from new DataFrame row\n",
    "def populate_df(row):\n",
    "    index = str(row['date'].year)\n",
    "    value = raw_e_world.loc[index]\n",
    "    return value\n",
    "  \n",
    "# Select just the co2 emissions for the 'world', and the columns for the years 1960-2018 \n",
    "raw_e_world = raw_e[raw_e['Country Name']=='World'].loc[:,'1960':'2018']\n",
    "\n",
    "# 'Traspose' the resulting slice, making the columns become rows and vice versa\n",
    "raw_e_world = raw_e_world.T\n",
    "raw_e_world.columns = ['value']\n",
    "\n",
    "# Create a new DataFrame with a daterange the same the range for.. \n",
    "# the Temperature data (after resampling to years)\n",
    "date_rng = pd.date_range(start='31/12/1960', end='31/12/2018', freq='y')\n",
    "e = pd.DataFrame(date_rng, columns=['date'])\n",
    "\n",
    "# Populate the new DataFrame using the values from the raw data slice\n",
    "v = e.apply(lambda row: populate_df(row), axis=1)\n",
    "e['Global CO2 Emissions per Capita'] = v\n",
    "e.set_index('date', inplace=True)\n",
    "e.head()"
   ]
  },
  {
   "cell_type": "code",
   "execution_count": 13,
   "metadata": {},
   "outputs": [
    {
     "data": {
      "text/html": [
       "<div>\n",
       "<style scoped>\n",
       "    .dataframe tbody tr th:only-of-type {\n",
       "        vertical-align: middle;\n",
       "    }\n",
       "\n",
       "    .dataframe tbody tr th {\n",
       "        vertical-align: top;\n",
       "    }\n",
       "\n",
       "    .dataframe thead th {\n",
       "        text-align: right;\n",
       "    }\n",
       "</style>\n",
       "<table border=\"1\" class=\"dataframe\">\n",
       "  <thead>\n",
       "    <tr style=\"text-align: right;\">\n",
       "      <th></th>\n",
       "      <th>Global CO2 Emissions per Capita</th>\n",
       "    </tr>\n",
       "    <tr>\n",
       "      <th>date</th>\n",
       "      <th></th>\n",
       "    </tr>\n",
       "  </thead>\n",
       "  <tbody>\n",
       "    <tr>\n",
       "      <th>2012-12-31</th>\n",
       "      <td>4.996211</td>\n",
       "    </tr>\n",
       "    <tr>\n",
       "      <th>2013-12-31</th>\n",
       "      <td>4.987739</td>\n",
       "    </tr>\n",
       "    <tr>\n",
       "      <th>2014-12-31</th>\n",
       "      <td>4.969974</td>\n",
       "    </tr>\n",
       "    <tr>\n",
       "      <th>2015-12-31</th>\n",
       "      <td>NaN</td>\n",
       "    </tr>\n",
       "    <tr>\n",
       "      <th>2016-12-31</th>\n",
       "      <td>NaN</td>\n",
       "    </tr>\n",
       "    <tr>\n",
       "      <th>2017-12-31</th>\n",
       "      <td>NaN</td>\n",
       "    </tr>\n",
       "    <tr>\n",
       "      <th>2018-12-31</th>\n",
       "      <td>NaN</td>\n",
       "    </tr>\n",
       "  </tbody>\n",
       "</table>\n",
       "</div>"
      ],
      "text/plain": [
       "            Global CO2 Emissions per Capita\n",
       "date                                       \n",
       "2012-12-31                         4.996211\n",
       "2013-12-31                         4.987739\n",
       "2014-12-31                         4.969974\n",
       "2015-12-31                              NaN\n",
       "2016-12-31                              NaN\n",
       "2017-12-31                              NaN\n",
       "2018-12-31                              NaN"
      ]
     },
     "execution_count": 13,
     "metadata": {},
     "output_type": "execute_result"
    }
   ],
   "source": [
    "# Illustrate how the above DataFrame can be filtered for values after 2011\n",
    "e[e.index.year>2011]"
   ]
  },
  {
   "cell_type": "code",
   "execution_count": 14,
   "metadata": {},
   "outputs": [],
   "source": [
    "# Deal with the NaNs by 'forward filling'\n",
    "e.fillna(method='ffill', inplace=True)"
   ]
  },
  {
   "cell_type": "code",
   "execution_count": 15,
   "metadata": {},
   "outputs": [
    {
     "data": {
      "text/html": [
       "<div>\n",
       "<style scoped>\n",
       "    .dataframe tbody tr th:only-of-type {\n",
       "        vertical-align: middle;\n",
       "    }\n",
       "\n",
       "    .dataframe tbody tr th {\n",
       "        vertical-align: top;\n",
       "    }\n",
       "\n",
       "    .dataframe thead th {\n",
       "        text-align: right;\n",
       "    }\n",
       "</style>\n",
       "<table border=\"1\" class=\"dataframe\">\n",
       "  <thead>\n",
       "    <tr style=\"text-align: right;\">\n",
       "      <th></th>\n",
       "      <th>Global CO2 Emissions per Capita</th>\n",
       "    </tr>\n",
       "    <tr>\n",
       "      <th>date</th>\n",
       "      <th></th>\n",
       "    </tr>\n",
       "  </thead>\n",
       "  <tbody>\n",
       "    <tr>\n",
       "      <th>2012-12-31</th>\n",
       "      <td>4.996211</td>\n",
       "    </tr>\n",
       "    <tr>\n",
       "      <th>2013-12-31</th>\n",
       "      <td>4.987739</td>\n",
       "    </tr>\n",
       "    <tr>\n",
       "      <th>2014-12-31</th>\n",
       "      <td>4.969974</td>\n",
       "    </tr>\n",
       "    <tr>\n",
       "      <th>2015-12-31</th>\n",
       "      <td>4.969974</td>\n",
       "    </tr>\n",
       "    <tr>\n",
       "      <th>2016-12-31</th>\n",
       "      <td>4.969974</td>\n",
       "    </tr>\n",
       "    <tr>\n",
       "      <th>2017-12-31</th>\n",
       "      <td>4.969974</td>\n",
       "    </tr>\n",
       "    <tr>\n",
       "      <th>2018-12-31</th>\n",
       "      <td>4.969974</td>\n",
       "    </tr>\n",
       "  </tbody>\n",
       "</table>\n",
       "</div>"
      ],
      "text/plain": [
       "            Global CO2 Emissions per Capita\n",
       "date                                       \n",
       "2012-12-31                         4.996211\n",
       "2013-12-31                         4.987739\n",
       "2014-12-31                         4.969974\n",
       "2015-12-31                         4.969974\n",
       "2016-12-31                         4.969974\n",
       "2017-12-31                         4.969974\n",
       "2018-12-31                         4.969974"
      ]
     },
     "execution_count": 15,
     "metadata": {},
     "output_type": "execute_result"
    }
   ],
   "source": [
    "# Check that there are no longer NaNs at the end \n",
    "e[e.index.year>2011]"
   ]
  },
  {
   "cell_type": "code",
   "execution_count": 16,
   "metadata": {},
   "outputs": [
    {
     "data": {
      "text/html": [
       "<div>\n",
       "<style scoped>\n",
       "    .dataframe tbody tr th:only-of-type {\n",
       "        vertical-align: middle;\n",
       "    }\n",
       "\n",
       "    .dataframe tbody tr th {\n",
       "        vertical-align: top;\n",
       "    }\n",
       "\n",
       "    .dataframe thead th {\n",
       "        text-align: right;\n",
       "    }\n",
       "</style>\n",
       "<table border=\"1\" class=\"dataframe\">\n",
       "  <thead>\n",
       "    <tr style=\"text-align: right;\">\n",
       "      <th></th>\n",
       "      <th>Global CO2 Emissions per Capita</th>\n",
       "    </tr>\n",
       "    <tr>\n",
       "      <th>date</th>\n",
       "      <th></th>\n",
       "    </tr>\n",
       "  </thead>\n",
       "  <tbody>\n",
       "    <tr>\n",
       "      <th>1984-12-31</th>\n",
       "      <td>4.019671</td>\n",
       "    </tr>\n",
       "    <tr>\n",
       "      <th>1985-12-31</th>\n",
       "      <td>4.068895</td>\n",
       "    </tr>\n",
       "    <tr>\n",
       "      <th>1986-12-31</th>\n",
       "      <td>4.118996</td>\n",
       "    </tr>\n",
       "    <tr>\n",
       "      <th>1987-12-31</th>\n",
       "      <td>4.146842</td>\n",
       "    </tr>\n",
       "    <tr>\n",
       "      <th>1988-12-31</th>\n",
       "      <td>4.221216</td>\n",
       "    </tr>\n",
       "    <tr>\n",
       "      <th>1989-12-31</th>\n",
       "      <td>4.238247</td>\n",
       "    </tr>\n",
       "  </tbody>\n",
       "</table>\n",
       "</div>"
      ],
      "text/plain": [
       "            Global CO2 Emissions per Capita\n",
       "date                                       \n",
       "1984-12-31                         4.019671\n",
       "1985-12-31                         4.068895\n",
       "1986-12-31                         4.118996\n",
       "1987-12-31                         4.146842\n",
       "1988-12-31                         4.221216\n",
       "1989-12-31                         4.238247"
      ]
     },
     "execution_count": 16,
     "metadata": {},
     "output_type": "execute_result"
    }
   ],
   "source": [
    "e['1984-01-04':'1990-01-06']"
   ]
  },
  {
   "cell_type": "markdown",
   "metadata": {},
   "source": [
    "# Final DataFrames"
   ]
  },
  {
   "cell_type": "code",
   "execution_count": 17,
   "metadata": {},
   "outputs": [
    {
     "data": {
      "text/html": [
       "<div>\n",
       "<style scoped>\n",
       "    .dataframe tbody tr th:only-of-type {\n",
       "        vertical-align: middle;\n",
       "    }\n",
       "\n",
       "    .dataframe tbody tr th {\n",
       "        vertical-align: top;\n",
       "    }\n",
       "\n",
       "    .dataframe thead th {\n",
       "        text-align: right;\n",
       "    }\n",
       "</style>\n",
       "<table border=\"1\" class=\"dataframe\">\n",
       "  <thead>\n",
       "    <tr style=\"text-align: right;\">\n",
       "      <th></th>\n",
       "      <th>Avg_Anomaly_deg_C</th>\n",
       "    </tr>\n",
       "    <tr>\n",
       "      <th>date</th>\n",
       "      <th></th>\n",
       "    </tr>\n",
       "  </thead>\n",
       "  <tbody>\n",
       "    <tr>\n",
       "      <th>1880-01-31</th>\n",
       "      <td>-0.29</td>\n",
       "    </tr>\n",
       "    <tr>\n",
       "      <th>1880-02-29</th>\n",
       "      <td>-0.18</td>\n",
       "    </tr>\n",
       "    <tr>\n",
       "      <th>1880-03-31</th>\n",
       "      <td>-0.11</td>\n",
       "    </tr>\n",
       "    <tr>\n",
       "      <th>1880-04-30</th>\n",
       "      <td>-0.19</td>\n",
       "    </tr>\n",
       "    <tr>\n",
       "      <th>1880-05-31</th>\n",
       "      <td>-0.11</td>\n",
       "    </tr>\n",
       "  </tbody>\n",
       "</table>\n",
       "</div>"
      ],
      "text/plain": [
       "            Avg_Anomaly_deg_C\n",
       "date                         \n",
       "1880-01-31              -0.29\n",
       "1880-02-29              -0.18\n",
       "1880-03-31              -0.11\n",
       "1880-04-30              -0.19\n",
       "1880-05-31              -0.11"
      ]
     },
     "execution_count": 17,
     "metadata": {},
     "output_type": "execute_result"
    }
   ],
   "source": [
    "# Temperature anomalies\n",
    "t.head()"
   ]
  },
  {
   "cell_type": "code",
   "execution_count": 18,
   "metadata": {},
   "outputs": [
    {
     "data": {
      "text/html": [
       "<div>\n",
       "<style scoped>\n",
       "    .dataframe tbody tr th:only-of-type {\n",
       "        vertical-align: middle;\n",
       "    }\n",
       "\n",
       "    .dataframe tbody tr th {\n",
       "        vertical-align: top;\n",
       "    }\n",
       "\n",
       "    .dataframe thead th {\n",
       "        text-align: right;\n",
       "    }\n",
       "</style>\n",
       "<table border=\"1\" class=\"dataframe\">\n",
       "  <thead>\n",
       "    <tr style=\"text-align: right;\">\n",
       "      <th></th>\n",
       "      <th>Avg_Anomaly_deg_C</th>\n",
       "    </tr>\n",
       "    <tr>\n",
       "      <th>date</th>\n",
       "      <th></th>\n",
       "    </tr>\n",
       "  </thead>\n",
       "  <tbody>\n",
       "    <tr>\n",
       "      <th>1880-12-31</th>\n",
       "      <td>-0.185000</td>\n",
       "    </tr>\n",
       "    <tr>\n",
       "      <th>1881-12-31</th>\n",
       "      <td>-0.095000</td>\n",
       "    </tr>\n",
       "    <tr>\n",
       "      <th>1882-12-31</th>\n",
       "      <td>-0.101667</td>\n",
       "    </tr>\n",
       "    <tr>\n",
       "      <th>1883-12-31</th>\n",
       "      <td>-0.185000</td>\n",
       "    </tr>\n",
       "    <tr>\n",
       "      <th>1884-12-31</th>\n",
       "      <td>-0.288333</td>\n",
       "    </tr>\n",
       "  </tbody>\n",
       "</table>\n",
       "</div>"
      ],
      "text/plain": [
       "            Avg_Anomaly_deg_C\n",
       "date                         \n",
       "1880-12-31          -0.185000\n",
       "1881-12-31          -0.095000\n",
       "1882-12-31          -0.101667\n",
       "1883-12-31          -0.185000\n",
       "1884-12-31          -0.288333"
      ]
     },
     "execution_count": 18,
     "metadata": {},
     "output_type": "execute_result"
    }
   ],
   "source": [
    "# Temperature anomalies resampled to end-of-year\n",
    "t.resample('A').mean().head()"
   ]
  },
  {
   "cell_type": "code",
   "execution_count": 19,
   "metadata": {},
   "outputs": [
    {
     "data": {
      "text/html": [
       "<div>\n",
       "<style scoped>\n",
       "    .dataframe tbody tr th:only-of-type {\n",
       "        vertical-align: middle;\n",
       "    }\n",
       "\n",
       "    .dataframe tbody tr th {\n",
       "        vertical-align: top;\n",
       "    }\n",
       "\n",
       "    .dataframe thead th {\n",
       "        text-align: right;\n",
       "    }\n",
       "</style>\n",
       "<table border=\"1\" class=\"dataframe\">\n",
       "  <thead>\n",
       "    <tr style=\"text-align: right;\">\n",
       "      <th></th>\n",
       "      <th>Global CO2 Emissions per Capita</th>\n",
       "    </tr>\n",
       "    <tr>\n",
       "      <th>date</th>\n",
       "      <th></th>\n",
       "    </tr>\n",
       "  </thead>\n",
       "  <tbody>\n",
       "    <tr>\n",
       "      <th>1960-12-31</th>\n",
       "      <td>3.099013</td>\n",
       "    </tr>\n",
       "    <tr>\n",
       "      <th>1961-12-31</th>\n",
       "      <td>3.069727</td>\n",
       "    </tr>\n",
       "    <tr>\n",
       "      <th>1962-12-31</th>\n",
       "      <td>3.140511</td>\n",
       "    </tr>\n",
       "    <tr>\n",
       "      <th>1963-12-31</th>\n",
       "      <td>3.244499</td>\n",
       "    </tr>\n",
       "    <tr>\n",
       "      <th>1964-12-31</th>\n",
       "      <td>3.360596</td>\n",
       "    </tr>\n",
       "  </tbody>\n",
       "</table>\n",
       "</div>"
      ],
      "text/plain": [
       "            Global CO2 Emissions per Capita\n",
       "date                                       \n",
       "1960-12-31                         3.099013\n",
       "1961-12-31                         3.069727\n",
       "1962-12-31                         3.140511\n",
       "1963-12-31                         3.244499\n",
       "1964-12-31                         3.360596"
      ]
     },
     "execution_count": 19,
     "metadata": {},
     "output_type": "execute_result"
    }
   ],
   "source": [
    "# CO2 emissions\n",
    "e.head()"
   ]
  },
  {
   "cell_type": "markdown",
   "metadata": {},
   "source": [
    "# Visualizing Time Series Data"
   ]
  },
  {
   "cell_type": "markdown",
   "metadata": {},
   "source": [
    "## Plotting Temperature with Matplotlib"
   ]
  },
  {
   "cell_type": "code",
   "execution_count": 20,
   "metadata": {},
   "outputs": [
    {
     "data": {
      "image/png": "[encoded data removed]",
      "text/plain": [
       "<Figure size 720x576 with 1 Axes>"
      ]
     },
     "metadata": {
      "needs_background": "light"
     },
     "output_type": "display_data"
    }
   ],
   "source": [
    "# import Matplotlib\n",
    "import matplotlib.pyplot as plt\n",
    "# Allow for graphs to be displayed in Jupyter notebook\n",
    "%matplotlib inline\n",
    "\n",
    "# Resample or temperature data to years (end-of-year)\n",
    "t_resampled = t.resample('A').mean()\n",
    "\n",
    "# Create figures and axes\n",
    "fig, ax = plt.subplots(figsize=(10,8))\n",
    "\n",
    "# Plot temperature data with specific colour and line thickness\n",
    "ax.plot(t_resampled, color='#1C7C54', linewidth=2.5)\n",
    "\n",
    "# Set axis labels and graph title\n",
    "ax.set(xlabel='Time (years)', ylabel='Temperature Anomaly (deg. Celsius)',\n",
    "       title='Global Temperature Anomalies')\n",
    "\n",
    "# Enable grid\n",
    "ax.grid()\n"
   ]
  },
  {
   "cell_type": "markdown",
   "metadata": {},
   "source": [
    "## Plotting Emissions with Matplotlib"
   ]
  },
  {
   "cell_type": "code",
   "execution_count": 21,
   "metadata": {},
   "outputs": [
    {
     "data": {
      "image/png": "[encoded data removed]",
      "text/plain": [
       "<Figure size 720x576 with 1 Axes>"
      ]
     },
     "metadata": {
      "needs_background": "light"
     },
     "output_type": "display_data"
    }
   ],
   "source": [
    "# import Matplotlib\n",
    "import matplotlib.pyplot as plt\n",
    "# Allow for graphs to be displayed in Jupyter notebook\n",
    "%matplotlib inline\n",
    "\n",
    "# Create figures and axes\n",
    "fig, ax = plt.subplots(figsize=(10,8))\n",
    "\n",
    "# Plot co2 emissions data with specific colour and line thickness\n",
    "ax.plot(e, color='#3393FF', linewidth=2.5)\n",
    "\n",
    "# Set axis labels and graph title\n",
    "ax.set(xlabel='Time (years)', ylabel='Emissions (Metric Tons per Capita)',\n",
    "       title='Global CO2 Emission over Time')\n",
    "\n",
    "# Enable grid\n",
    "ax.grid()"
   ]
  },
  {
   "cell_type": "markdown",
   "metadata": {},
   "source": [
    "## Plotting Temperature with Plotly"
   ]
  },
  {
   "cell_type": "code",
   "execution_count": 22,
   "metadata": {},
   "outputs": [
    {
     "data": {
      "text/html": [
       "<script type=\"text/javascript\">window.PlotlyConfig = {MathJaxConfig: 'local'};</script><script type=\"text/javascript\">if (window.MathJax) {MathJax.Hub.Config({SVG: {font: \"STIX-Web\"}});}</script><script>requirejs.config({paths: { 'plotly': ['https://cdn.plot.ly/plotly-latest.min']},});if(!window._Plotly) {require(['plotly'],function(plotly) {window._Plotly=plotly;});}</script>"
      ],
      "text/vnd.plotly.v1+html": [
       "<script type=\"text/javascript\">window.PlotlyConfig = {MathJaxConfig: 'local'};</script><script type=\"text/javascript\">if (window.MathJax) {MathJax.Hub.Config({SVG: {font: \"STIX-Web\"}});}</script><script>requirejs.config({paths: { 'plotly': ['https://cdn.plot.ly/plotly-latest.min']},});if(!window._Plotly) {require(['plotly'],function(plotly) {window._Plotly=plotly;});}</script>"
      ]
     },
     "metadata": {},
     "output_type": "display_data"
    },
    {
     "data": {
      "text/html": [
       "<script type=\"text/javascript\">window.PlotlyConfig = {MathJaxConfig: 'local'};</script><script type=\"text/javascript\">if (window.MathJax) {MathJax.Hub.Config({SVG: {font: \"STIX-Web\"}});}</script><script>requirejs.config({paths: { 'plotly': ['https://cdn.plot.ly/plotly-latest.min']},});if(!window._Plotly) {require(['plotly'],function(plotly) {window._Plotly=plotly;});}</script>"
      ],
      "text/vnd.plotly.v1+html": [
       "<script type=\"text/javascript\">window.PlotlyConfig = {MathJaxConfig: 'local'};</script><script type=\"text/javascript\">if (window.MathJax) {MathJax.Hub.Config({SVG: {font: \"STIX-Web\"}});}</script><script>requirejs.config({paths: { 'plotly': ['https://cdn.plot.ly/plotly-latest.min']},});if(!window._Plotly) {require(['plotly'],function(plotly) {window._Plotly=plotly;});}</script>"
      ]
     },
     "metadata": {},
     "output_type": "display_data"
    }
   ],
   "source": [
    "# Standard plotly imports\n",
    "import plotly.plotly as py\n",
    "import plotly.graph_objs as go\n",
    "from plotly.offline import iplot, init_notebook_mode\n",
    "# Using plotly + cufflinks in offline mode\n",
    "import cufflinks\n",
    "cufflinks.go_offline(connected=True)\n",
    "init_notebook_mode(connected=True)"
   ]
  },
  {
   "cell_type": "code",
   "execution_count": 23,
   "metadata": {},
   "outputs": [
    {
     "data": {
      "application/vnd.plotly.v1+json": {
       "config": {
        "linkText": "Export to plot.ly",
        "plotlyServerURL": "https://plot.ly",
        "showLink": true
       },
       "data": [
        {
         "line": {
          "color": "rgba(28, 124, 84, 1.0)",
          "dash": "solid",
          "shape": "linear",
          "width": 1.3
         },
         "mode": "lines",
         "name": "Avg_Anomaly_deg_C",
         "text": "",
         "type": "scatter",
         "uid": "deb24b92-c97f-4c01-9b56-478c4dbcf8b9",
         "x": [
          "1880-12-31",
          "1881-12-31",
          "1882-12-31",
          "1883-12-31",
          "1884-12-31",
          "1885-12-31",
          "1886-12-31",
          "1887-12-31",
          "1888-12-31",
          "1889-12-31",
          "1890-12-31",
          "1891-12-31",
          "1892-12-31",
          "1893-12-31",
          "1894-12-31",
          "1895-12-31",
          "1896-12-31",
          "1897-12-31",
          "1898-12-31",
          "1899-12-31",
          "1900-12-31",
          "1901-12-31",
          "1902-12-31",
          "1903-12-31",
          "1904-12-31",
          "1905-12-31",
          "1906-12-31",
          "1907-12-31",
          "1908-12-31",
          "1909-12-31",
          "1910-12-31",
          "1911-12-31",
          "1912-12-31",
          "1913-12-31",
          "1914-12-31",
          "1915-12-31",
          "1916-12-31",
          "1917-12-31",
          "1918-12-31",
          "1919-12-31",
          "1920-12-31",
          "1921-12-31",
          "1922-12-31",
          "1923-12-31",
          "1924-12-31",
          "1925-12-31",
          "1926-12-31",
          "1927-12-31",
          "1928-12-31",
          "1929-12-31",
          "1930-12-31",
          "1931-12-31",
          "1932-12-31",
          "1933-12-31",
          "1934-12-31",
          "1935-12-31",
          "1936-12-31",
          "1937-12-31",
          "1938-12-31",
          "1939-12-31",
          "1940-12-31",
          "1941-12-31",
          "1942-12-31",
          "1943-12-31",
          "1944-12-31",
          "1945-12-31",
          "1946-12-31",
          "1947-12-31",
          "1948-12-31",
          "1949-12-31",
          "1950-12-31",
          "1951-12-31",
          "1952-12-31",
          "1953-12-31",
          "1954-12-31",
          "1955-12-31",
          "1956-12-31",
          "1957-12-31",
          "1958-12-31",
          "1959-12-31",
          "1960-12-31",
          "1961-12-31",
          "1962-12-31",
          "1963-12-31",
          "1964-12-31",
          "1965-12-31",
          "1966-12-31",
          "1967-12-31",
          "1968-12-31",
          "1969-12-31",
          "1970-12-31",
          "1971-12-31",
          "1972-12-31",
          "1973-12-31",
          "1974-12-31",
          "1975-12-31",
          "1976-12-31",
          "1977-12-31",
          "1978-12-31",
          "1979-12-31",
          "1980-12-31",
          "1981-12-31",
          "1982-12-31",
          "1983-12-31",
          "1984-12-31",
          "1985-12-31",
          "1986-12-31",
          "1987-12-31",
          "1988-12-31",
          "1989-12-31",
          "1990-12-31",
          "1991-12-31",
          "1992-12-31",
          "1993-12-31",
          "1994-12-31",
          "1995-12-31",
          "1996-12-31",
          "1997-12-31",
          "1998-12-31",
          "1999-12-31",
          "2000-12-31",
          "2001-12-31",
          "2002-12-31",
          "2003-12-31",
          "2004-12-31",
          "2005-12-31",
          "2006-12-31",
          "2007-12-31",
          "2008-12-31",
          "2009-12-31",
          "2010-12-31",
          "2011-12-31",
          "2012-12-31",
          "2013-12-31",
          "2014-12-31",
          "2015-12-31",
          "2016-12-31",
          "2017-12-31",
          "2018-12-31",
          "2019-12-31"
         ],
         "y": [
          -0.18500000000000003,
          -0.09500000000000001,
          -0.10166666666666668,
          -0.18499999999999997,
          -0.28833333333333333,
          -0.30916666666666665,
          -0.3166666666666667,
          -0.3491666666666666,
          -0.18083333333333332,
          -0.11166666666666668,
          -0.3725,
          -0.2358333333333333,
          -0.26499999999999996,
          -0.3166666666666667,
          -0.31333333333333335,
          -0.22250000000000003,
          -0.11166666666666665,
          -0.11499999999999999,
          -0.2783333333333333,
          -0.18166666666666664,
          -0.08833333333333333,
          -0.15333333333333335,
          -0.3016666666666667,
          -0.38916666666666666,
          -0.4891666666666666,
          -0.28500000000000003,
          -0.22333333333333336,
          -0.39333333333333337,
          -0.4316666666666667,
          -0.4716666666666666,
          -0.42833333333333323,
          -0.43083333333333335,
          -0.3558333333333333,
          -0.3516666666666666,
          -0.15583333333333332,
          -0.12000000000000001,
          -0.3275,
          -0.4383333333333334,
          -0.2825,
          -0.2691666666666667,
          -0.2566666666666667,
          -0.17500000000000002,
          -0.27166666666666667,
          -0.24583333333333335,
          -0.25333333333333335,
          -0.20583333333333334,
          -0.09000000000000001,
          -0.20416666666666664,
          -0.18666666666666665,
          -0.34583333333333327,
          -0.14583333333333334,
          -0.09833333333333337,
          -0.16416666666666668,
          -0.29583333333333334,
          -0.1366666666666667,
          -0.205,
          -0.15833333333333335,
          -0.03833333333333334,
          -0.03166666666666667,
          -0.029999999999999985,
          0.11249999999999999,
          0.18166666666666667,
          0.05416666666666666,
          0.07083333333333335,
          0.20750000000000002,
          0.08583333333333333,
          -0.07166666666666667,
          -0.03666666666666666,
          -0.10333333333333332,
          -0.1075,
          -0.18250000000000002,
          -0.06666666666666667,
          0.0066666666666666645,
          0.06833333333333334,
          -0.1475,
          -0.14666666666666667,
          -0.205,
          0.0425,
          0.06666666666666668,
          0.025833333333333337,
          -0.02166666666666667,
          0.05583333333333334,
          0.03833333333333334,
          0.07,
          -0.19583333333333333,
          -0.10500000000000002,
          -0.04750000000000001,
          -0.020833333333333332,
          -0.07333333333333335,
          0.06833333333333334,
          0.03166666666666666,
          -0.09000000000000001,
          0.016666666666666666,
          0.1625,
          -0.08249999999999999,
          -0.01416666666666667,
          -0.10833333333333334,
          0.17,
          0.06416666666666668,
          0.16,
          0.2725,
          0.32999999999999996,
          0.13249999999999998,
          0.31250000000000006,
          0.16249999999999998,
          0.11916666666666668,
          0.18333333333333332,
          0.3325000000000001,
          0.4066666666666667,
          0.28750000000000003,
          0.43583333333333335,
          0.4083333333333334,
          0.2175,
          0.23583333333333337,
          0.3066666666666667,
          0.44333333333333336,
          0.3325,
          0.4649999999999999,
          0.6225,
          0.3966666666666667,
          0.39999999999999997,
          0.5325,
          0.6233333333333334,
          0.6075,
          0.535,
          0.6708333333333333,
          0.6175,
          0.6383333333333333,
          0.515,
          0.6333333333333333,
          0.6974999999999999,
          0.5833333333333334,
          0.6158333333333333,
          0.6450000000000001,
          0.7308333333333333,
          0.8641666666666666,
          0.9883333333333334,
          0.9000000000000002,
          0.8233333333333334,
          0.9158333333333334
         ]
        }
       ],
       "layout": {
        "legend": {
         "bgcolor": "#F5F6F9",
         "font": {
          "color": "#4D5663"
         }
        },
        "paper_bgcolor": "#F5F6F9",
        "plot_bgcolor": "#F5F6F9",
        "title": "Global Temperature Anomalies",
        "titlefont": {
         "color": "#4D5663"
        },
        "xaxis": {
         "gridcolor": "#E1E5ED",
         "showgrid": true,
         "tickfont": {
          "color": "#4D5663"
         },
         "title": "Time (years)",
         "titlefont": {
          "color": "#4D5663"
         },
         "zerolinecolor": "#E1E5ED"
        },
        "yaxis": {
         "gridcolor": "#E1E5ED",
         "showgrid": true,
         "tickfont": {
          "color": "#4D5663"
         },
         "title": "Temperature Anomaly (deg. Celsius)",
         "titlefont": {
          "color": "#4D5663"
         },
         "zerolinecolor": "#E1E5ED"
        }
       }
      },
      "text/html": [
       "<div id=\"812ef22d-bba0-4d83-b70f-acd4b290ba71\" style=\"height: 525px; width: 100%;\" class=\"plotly-graph-div\"></div><script type=\"text/javascript\">require([\"plotly\"], function(Plotly) { window.PLOTLYENV=window.PLOTLYENV || {};window.PLOTLYENV.BASE_URL=\"https://plot.ly\";Plotly.newPlot(\"812ef22d-bba0-4d83-b70f-acd4b290ba71\", [{\"line\": {\"color\": \"rgba(28, 124, 84, 1.0)\", \"dash\": \"solid\", \"shape\": \"linear\", \"width\": 1.3}, \"mode\": \"lines\", \"name\": \"Avg_Anomaly_deg_C\", \"text\": \"\", \"x\": [\"1880-12-31\", \"1881-12-31\", \"1882-12-31\", \"1883-12-31\", \"1884-12-31\", \"1885-12-31\", \"1886-12-31\", \"1887-12-31\", \"1888-12-31\", \"1889-12-31\", \"1890-12-31\", \"1891-12-31\", \"1892-12-31\", \"1893-12-31\", \"1894-12-31\", \"1895-12-31\", \"1896-12-31\", \"1897-12-31\", \"1898-12-31\", \"1899-12-31\", \"1900-12-31\", \"1901-12-31\", \"1902-12-31\", \"1903-12-31\", \"1904-12-31\", \"1905-12-31\", \"1906-12-31\", \"1907-12-31\", \"1908-12-31\", \"1909-12-31\", \"1910-12-31\", \"1911-12-31\", \"1912-12-31\", \"1913-12-31\", \"1914-12-31\", \"1915-12-31\", \"1916-12-31\", \"1917-12-31\", \"1918-12-31\", \"1919-12-31\", \"1920-12-31\", \"1921-12-31\", \"1922-12-31\", \"1923-12-31\", \"1924-12-31\", \"1925-12-31\", \"1926-12-31\", \"1927-12-31\", \"1928-12-31\", \"1929-12-31\", \"1930-12-31\", \"1931-12-31\", \"1932-12-31\", \"1933-12-31\", \"1934-12-31\", \"1935-12-31\", \"1936-12-31\", \"1937-12-31\", \"1938-12-31\", \"1939-12-31\", \"1940-12-31\", \"1941-12-31\", \"1942-12-31\", \"1943-12-31\", \"1944-12-31\", \"1945-12-31\", \"1946-12-31\", \"1947-12-31\", \"1948-12-31\", \"1949-12-31\", \"1950-12-31\", \"1951-12-31\", \"1952-12-31\", \"1953-12-31\", \"1954-12-31\", \"1955-12-31\", \"1956-12-31\", \"1957-12-31\", \"1958-12-31\", \"1959-12-31\", \"1960-12-31\", \"1961-12-31\", \"1962-12-31\", \"1963-12-31\", \"1964-12-31\", \"1965-12-31\", \"1966-12-31\", \"1967-12-31\", \"1968-12-31\", \"1969-12-31\", \"1970-12-31\", \"1971-12-31\", \"1972-12-31\", \"1973-12-31\", \"1974-12-31\", \"1975-12-31\", \"1976-12-31\", \"1977-12-31\", \"1978-12-31\", \"1979-12-31\", \"1980-12-31\", \"1981-12-31\", \"1982-12-31\", \"1983-12-31\", \"1984-12-31\", \"1985-12-31\", \"1986-12-31\", \"1987-12-31\", \"1988-12-31\", \"1989-12-31\", \"1990-12-31\", \"1991-12-31\", \"1992-12-31\", \"1993-12-31\", \"1994-12-31\", \"1995-12-31\", \"1996-12-31\", \"1997-12-31\", \"1998-12-31\", \"1999-12-31\", \"2000-12-31\", \"2001-12-31\", \"2002-12-31\", \"2003-12-31\", \"2004-12-31\", \"2005-12-31\", \"2006-12-31\", \"2007-12-31\", \"2008-12-31\", \"2009-12-31\", \"2010-12-31\", \"2011-12-31\", \"2012-12-31\", \"2013-12-31\", \"2014-12-31\", \"2015-12-31\", \"2016-12-31\", \"2017-12-31\", \"2018-12-31\", \"2019-12-31\"], \"y\": [-0.18500000000000003, -0.09500000000000001, -0.10166666666666668, -0.18499999999999997, -0.28833333333333333, -0.30916666666666665, -0.3166666666666667, -0.3491666666666666, -0.18083333333333332, -0.11166666666666668, -0.3725, -0.2358333333333333, -0.26499999999999996, -0.3166666666666667, -0.31333333333333335, -0.22250000000000003, -0.11166666666666665, -0.11499999999999999, -0.2783333333333333, -0.18166666666666664, -0.08833333333333333, -0.15333333333333335, -0.3016666666666667, -0.38916666666666666, -0.4891666666666666, -0.28500000000000003, -0.22333333333333336, -0.39333333333333337, -0.4316666666666667, -0.4716666666666666, -0.42833333333333323, -0.43083333333333335, -0.3558333333333333, -0.3516666666666666, -0.15583333333333332, -0.12000000000000001, -0.3275, -0.4383333333333334, -0.2825, -0.2691666666666667, -0.2566666666666667, -0.17500000000000002, -0.27166666666666667, -0.24583333333333335, -0.25333333333333335, -0.20583333333333334, -0.09000000000000001, -0.20416666666666664, -0.18666666666666665, -0.34583333333333327, -0.14583333333333334, -0.09833333333333337, -0.16416666666666668, -0.29583333333333334, -0.1366666666666667, -0.205, -0.15833333333333335, -0.03833333333333334, -0.03166666666666667, -0.029999999999999985, 0.11249999999999999, 0.18166666666666667, 0.05416666666666666, 0.07083333333333335, 0.20750000000000002, 0.08583333333333333, -0.07166666666666667, -0.03666666666666666, -0.10333333333333332, -0.1075, -0.18250000000000002, -0.06666666666666667, 0.0066666666666666645, 0.06833333333333334, -0.1475, -0.14666666666666667, -0.205, 0.0425, 0.06666666666666668, 0.025833333333333337, -0.02166666666666667, 0.05583333333333334, 0.03833333333333334, 0.07, -0.19583333333333333, -0.10500000000000002, -0.04750000000000001, -0.020833333333333332, -0.07333333333333335, 0.06833333333333334, 0.03166666666666666, -0.09000000000000001, 0.016666666666666666, 0.1625, -0.08249999999999999, -0.01416666666666667, -0.10833333333333334, 0.17, 0.06416666666666668, 0.16, 0.2725, 0.32999999999999996, 0.13249999999999998, 0.31250000000000006, 0.16249999999999998, 0.11916666666666668, 0.18333333333333332, 0.3325000000000001, 0.4066666666666667, 0.28750000000000003, 0.43583333333333335, 0.4083333333333334, 0.2175, 0.23583333333333337, 0.3066666666666667, 0.44333333333333336, 0.3325, 0.4649999999999999, 0.6225, 0.3966666666666667, 0.39999999999999997, 0.5325, 0.6233333333333334, 0.6075, 0.535, 0.6708333333333333, 0.6175, 0.6383333333333333, 0.515, 0.6333333333333333, 0.6974999999999999, 0.5833333333333334, 0.6158333333333333, 0.6450000000000001, 0.7308333333333333, 0.8641666666666666, 0.9883333333333334, 0.9000000000000002, 0.8233333333333334, 0.9158333333333334], \"type\": \"scatter\", \"uid\": \"4fdb452d-e440-4255-a1e0-51e71efe506a\"}], {\"legend\": {\"bgcolor\": \"#F5F6F9\", \"font\": {\"color\": \"#4D5663\"}}, \"paper_bgcolor\": \"#F5F6F9\", \"plot_bgcolor\": \"#F5F6F9\", \"title\": \"Global Temperature Anomalies\", \"titlefont\": {\"color\": \"#4D5663\"}, \"xaxis\": {\"gridcolor\": \"#E1E5ED\", \"showgrid\": true, \"tickfont\": {\"color\": \"#4D5663\"}, \"title\": \"Time (years)\", \"titlefont\": {\"color\": \"#4D5663\"}, \"zerolinecolor\": \"#E1E5ED\"}, \"yaxis\": {\"gridcolor\": \"#E1E5ED\", \"showgrid\": true, \"tickfont\": {\"color\": \"#4D5663\"}, \"title\": \"Temperature Anomaly (deg. Celsius)\", \"titlefont\": {\"color\": \"#4D5663\"}, \"zerolinecolor\": \"#E1E5ED\"}}, {\"showLink\": true, \"linkText\": \"Export to plot.ly\", \"plotlyServerURL\": \"https://plot.ly\"})});</script><script type=\"text/javascript\">window.addEventListener(\"resize\", function(){window._Plotly.Plots.resize(document.getElementById(\"812ef22d-bba0-4d83-b70f-acd4b290ba71\"));});</script>"
      ],
      "text/vnd.plotly.v1+html": [
       "<div id=\"812ef22d-bba0-4d83-b70f-acd4b290ba71\" style=\"height: 525px; width: 100%;\" class=\"plotly-graph-div\"></div><script type=\"text/javascript\">require([\"plotly\"], function(Plotly) { window.PLOTLYENV=window.PLOTLYENV || {};window.PLOTLYENV.BASE_URL=\"https://plot.ly\";Plotly.newPlot(\"812ef22d-bba0-4d83-b70f-acd4b290ba71\", [{\"line\": {\"color\": \"rgba(28, 124, 84, 1.0)\", \"dash\": \"solid\", \"shape\": \"linear\", \"width\": 1.3}, \"mode\": \"lines\", \"name\": \"Avg_Anomaly_deg_C\", \"text\": \"\", \"x\": [\"1880-12-31\", \"1881-12-31\", \"1882-12-31\", \"1883-12-31\", \"1884-12-31\", \"1885-12-31\", \"1886-12-31\", \"1887-12-31\", \"1888-12-31\", \"1889-12-31\", \"1890-12-31\", \"1891-12-31\", \"1892-12-31\", \"1893-12-31\", \"1894-12-31\", \"1895-12-31\", \"1896-12-31\", \"1897-12-31\", \"1898-12-31\", \"1899-12-31\", \"1900-12-31\", \"1901-12-31\", \"1902-12-31\", \"1903-12-31\", \"1904-12-31\", \"1905-12-31\", \"1906-12-31\", \"1907-12-31\", \"1908-12-31\", \"1909-12-31\", \"1910-12-31\", \"1911-12-31\", \"1912-12-31\", \"1913-12-31\", \"1914-12-31\", \"1915-12-31\", \"1916-12-31\", \"1917-12-31\", \"1918-12-31\", \"1919-12-31\", \"1920-12-31\", \"1921-12-31\", \"1922-12-31\", \"1923-12-31\", \"1924-12-31\", \"1925-12-31\", \"1926-12-31\", \"1927-12-31\", \"1928-12-31\", \"1929-12-31\", \"1930-12-31\", \"1931-12-31\", \"1932-12-31\", \"1933-12-31\", \"1934-12-31\", \"1935-12-31\", \"1936-12-31\", \"1937-12-31\", \"1938-12-31\", \"1939-12-31\", \"1940-12-31\", \"1941-12-31\", \"1942-12-31\", \"1943-12-31\", \"1944-12-31\", \"1945-12-31\", \"1946-12-31\", \"1947-12-31\", \"1948-12-31\", \"1949-12-31\", \"1950-12-31\", \"1951-12-31\", \"1952-12-31\", \"1953-12-31\", \"1954-12-31\", \"1955-12-31\", \"1956-12-31\", \"1957-12-31\", \"1958-12-31\", \"1959-12-31\", \"1960-12-31\", \"1961-12-31\", \"1962-12-31\", \"1963-12-31\", \"1964-12-31\", \"1965-12-31\", \"1966-12-31\", \"1967-12-31\", \"1968-12-31\", \"1969-12-31\", \"1970-12-31\", \"1971-12-31\", \"1972-12-31\", \"1973-12-31\", \"1974-12-31\", \"1975-12-31\", \"1976-12-31\", \"1977-12-31\", \"1978-12-31\", \"1979-12-31\", \"1980-12-31\", \"1981-12-31\", \"1982-12-31\", \"1983-12-31\", \"1984-12-31\", \"1985-12-31\", \"1986-12-31\", \"1987-12-31\", \"1988-12-31\", \"1989-12-31\", \"1990-12-31\", \"1991-12-31\", \"1992-12-31\", \"1993-12-31\", \"1994-12-31\", \"1995-12-31\", \"1996-12-31\", \"1997-12-31\", \"1998-12-31\", \"1999-12-31\", \"2000-12-31\", \"2001-12-31\", \"2002-12-31\", \"2003-12-31\", \"2004-12-31\", \"2005-12-31\", \"2006-12-31\", \"2007-12-31\", \"2008-12-31\", \"2009-12-31\", \"2010-12-31\", \"2011-12-31\", \"2012-12-31\", \"2013-12-31\", \"2014-12-31\", \"2015-12-31\", \"2016-12-31\", \"2017-12-31\", \"2018-12-31\", \"2019-12-31\"], \"y\": [-0.18500000000000003, -0.09500000000000001, -0.10166666666666668, -0.18499999999999997, -0.28833333333333333, -0.30916666666666665, -0.3166666666666667, -0.3491666666666666, -0.18083333333333332, -0.11166666666666668, -0.3725, -0.2358333333333333, -0.26499999999999996, -0.3166666666666667, -0.31333333333333335, -0.22250000000000003, -0.11166666666666665, -0.11499999999999999, -0.2783333333333333, -0.18166666666666664, -0.08833333333333333, -0.15333333333333335, -0.3016666666666667, -0.38916666666666666, -0.4891666666666666, -0.28500000000000003, -0.22333333333333336, -0.39333333333333337, -0.4316666666666667, -0.4716666666666666, -0.42833333333333323, -0.43083333333333335, -0.3558333333333333, -0.3516666666666666, -0.15583333333333332, -0.12000000000000001, -0.3275, -0.4383333333333334, -0.2825, -0.2691666666666667, -0.2566666666666667, -0.17500000000000002, -0.27166666666666667, -0.24583333333333335, -0.25333333333333335, -0.20583333333333334, -0.09000000000000001, -0.20416666666666664, -0.18666666666666665, -0.34583333333333327, -0.14583333333333334, -0.09833333333333337, -0.16416666666666668, -0.29583333333333334, -0.1366666666666667, -0.205, -0.15833333333333335, -0.03833333333333334, -0.03166666666666667, -0.029999999999999985, 0.11249999999999999, 0.18166666666666667, 0.05416666666666666, 0.07083333333333335, 0.20750000000000002, 0.08583333333333333, -0.07166666666666667, -0.03666666666666666, -0.10333333333333332, -0.1075, -0.18250000000000002, -0.06666666666666667, 0.0066666666666666645, 0.06833333333333334, -0.1475, -0.14666666666666667, -0.205, 0.0425, 0.06666666666666668, 0.025833333333333337, -0.02166666666666667, 0.05583333333333334, 0.03833333333333334, 0.07, -0.19583333333333333, -0.10500000000000002, -0.04750000000000001, -0.020833333333333332, -0.07333333333333335, 0.06833333333333334, 0.03166666666666666, -0.09000000000000001, 0.016666666666666666, 0.1625, -0.08249999999999999, -0.01416666666666667, -0.10833333333333334, 0.17, 0.06416666666666668, 0.16, 0.2725, 0.32999999999999996, 0.13249999999999998, 0.31250000000000006, 0.16249999999999998, 0.11916666666666668, 0.18333333333333332, 0.3325000000000001, 0.4066666666666667, 0.28750000000000003, 0.43583333333333335, 0.4083333333333334, 0.2175, 0.23583333333333337, 0.3066666666666667, 0.44333333333333336, 0.3325, 0.4649999999999999, 0.6225, 0.3966666666666667, 0.39999999999999997, 0.5325, 0.6233333333333334, 0.6075, 0.535, 0.6708333333333333, 0.6175, 0.6383333333333333, 0.515, 0.6333333333333333, 0.6974999999999999, 0.5833333333333334, 0.6158333333333333, 0.6450000000000001, 0.7308333333333333, 0.8641666666666666, 0.9883333333333334, 0.9000000000000002, 0.8233333333333334, 0.9158333333333334], \"type\": \"scatter\", \"uid\": \"4fdb452d-e440-4255-a1e0-51e71efe506a\"}], {\"legend\": {\"bgcolor\": \"#F5F6F9\", \"font\": {\"color\": \"#4D5663\"}}, \"paper_bgcolor\": \"#F5F6F9\", \"plot_bgcolor\": \"#F5F6F9\", \"title\": \"Global Temperature Anomalies\", \"titlefont\": {\"color\": \"#4D5663\"}, \"xaxis\": {\"gridcolor\": \"#E1E5ED\", \"showgrid\": true, \"tickfont\": {\"color\": \"#4D5663\"}, \"title\": \"Time (years)\", \"titlefont\": {\"color\": \"#4D5663\"}, \"zerolinecolor\": \"#E1E5ED\"}, \"yaxis\": {\"gridcolor\": \"#E1E5ED\", \"showgrid\": true, \"tickfont\": {\"color\": \"#4D5663\"}, \"title\": \"Temperature Anomaly (deg. Celsius)\", \"titlefont\": {\"color\": \"#4D5663\"}, \"zerolinecolor\": \"#E1E5ED\"}}, {\"showLink\": true, \"linkText\": \"Export to plot.ly\", \"plotlyServerURL\": \"https://plot.ly\"})});</script><script type=\"text/javascript\">window.addEventListener(\"resize\", function(){window._Plotly.Plots.resize(document.getElementById(\"812ef22d-bba0-4d83-b70f-acd4b290ba71\"));});</script>"
      ]
     },
     "metadata": {},
     "output_type": "display_data"
    }
   ],
   "source": [
    "t.resample('A').mean().iplot(kind='line', xTitle='Time (years)', color='#1C7C54',\n",
    "                  yTitle='Temperature Anomaly (deg. Celsius)', title='Global Temperature Anomalies')"
   ]
  },
  {
   "cell_type": "markdown",
   "metadata": {},
   "source": [
    "## Plotting Emissions with Plotly"
   ]
  },
  {
   "cell_type": "code",
   "execution_count": 24,
   "metadata": {},
   "outputs": [
    {
     "data": {
      "application/vnd.plotly.v1+json": {
       "config": {
        "linkText": "Export to plot.ly",
        "plotlyServerURL": "https://plot.ly",
        "showLink": true
       },
       "data": [
        {
         "line": {
          "color": "rgba(51, 147, 255, 1.0)",
          "dash": "solid",
          "shape": "linear",
          "width": 1.3
         },
         "mode": "lines",
         "name": "Global CO2 Emissions per Capita",
         "text": "",
         "type": "scatter",
         "uid": "1ca8c0cb-c7bf-48a0-aaba-d49e2e3818dd",
         "x": [
          "1960-12-31",
          "1961-12-31",
          "1962-12-31",
          "1963-12-31",
          "1964-12-31",
          "1965-12-31",
          "1966-12-31",
          "1967-12-31",
          "1968-12-31",
          "1969-12-31",
          "1970-12-31",
          "1971-12-31",
          "1972-12-31",
          "1973-12-31",
          "1974-12-31",
          "1975-12-31",
          "1976-12-31",
          "1977-12-31",
          "1978-12-31",
          "1979-12-31",
          "1980-12-31",
          "1981-12-31",
          "1982-12-31",
          "1983-12-31",
          "1984-12-31",
          "1985-12-31",
          "1986-12-31",
          "1987-12-31",
          "1988-12-31",
          "1989-12-31",
          "1990-12-31",
          "1991-12-31",
          "1992-12-31",
          "1993-12-31",
          "1994-12-31",
          "1995-12-31",
          "1996-12-31",
          "1997-12-31",
          "1998-12-31",
          "1999-12-31",
          "2000-12-31",
          "2001-12-31",
          "2002-12-31",
          "2003-12-31",
          "2004-12-31",
          "2005-12-31",
          "2006-12-31",
          "2007-12-31",
          "2008-12-31",
          "2009-12-31",
          "2010-12-31",
          "2011-12-31",
          "2012-12-31",
          "2013-12-31",
          "2014-12-31",
          "2015-12-31",
          "2016-12-31",
          "2017-12-31",
          "2018-12-31"
         ],
         "y": [
          3.0990134461537897,
          3.06972701834951,
          3.1405114564922796,
          3.24449883461939,
          3.36059627301937,
          3.4390994493764597,
          3.53761777761217,
          3.57598760074636,
          3.6820043371844196,
          3.8217267418312,
          4.0124221416258905,
          4.071638385150339,
          4.15522707213128,
          4.29547054814401,
          4.22022672435856,
          4.11673055177987,
          4.2809968745807305,
          4.3385901257979,
          4.31472703052706,
          4.47723059891963,
          4.3529752124957,
          4.14499002214937,
          4.03601239303614,
          3.9485840636426497,
          4.01967082073237,
          4.06889483324752,
          4.11899594385358,
          4.1468421085430895,
          4.22121579699668,
          4.2382473258395805,
          4.18853443335987,
          4.16779393594322,
          4.0630801386868,
          3.99687679199773,
          4.00648912508173,
          4.03191340642106,
          4.06642274310816,
          4.0777747918894,
          4.04521394813147,
          3.9821101308386804,
          4.03319022967413,
          4.07599485730396,
          4.08357220402861,
          4.252864823977871,
          4.4090606996537804,
          4.5228010359500095,
          4.63049619432102,
          4.665488103306321,
          4.75616035280856,
          4.65604440536345,
          4.82806936244497,
          4.96758098934546,
          4.99621141959404,
          4.98773904748779,
          4.96997394966849,
          4.96997394966849,
          4.96997394966849,
          4.96997394966849,
          4.96997394966849
         ]
        }
       ],
       "layout": {
        "legend": {
         "bgcolor": "#F5F6F9",
         "font": {
          "color": "#4D5663"
         }
        },
        "paper_bgcolor": "#F5F6F9",
        "plot_bgcolor": "#F5F6F9",
        "title": "Global CO2 Emission over Time",
        "titlefont": {
         "color": "#4D5663"
        },
        "xaxis": {
         "gridcolor": "#E1E5ED",
         "showgrid": true,
         "tickfont": {
          "color": "#4D5663"
         },
         "title": "Time (years)",
         "titlefont": {
          "color": "#4D5663"
         },
         "zerolinecolor": "#E1E5ED"
        },
        "yaxis": {
         "gridcolor": "#E1E5ED",
         "showgrid": true,
         "tickfont": {
          "color": "#4D5663"
         },
         "title": "Emissions (Metric Tons per Capita)",
         "titlefont": {
          "color": "#4D5663"
         },
         "zerolinecolor": "#E1E5ED"
        }
       }
      },
      "text/html": [
       "<div id=\"b493f619-d75b-4c4a-8801-2cd68d8b1d2b\" style=\"height: 525px; width: 100%;\" class=\"plotly-graph-div\"></div><script type=\"text/javascript\">require([\"plotly\"], function(Plotly) { window.PLOTLYENV=window.PLOTLYENV || {};window.PLOTLYENV.BASE_URL=\"https://plot.ly\";Plotly.newPlot(\"b493f619-d75b-4c4a-8801-2cd68d8b1d2b\", [{\"line\": {\"color\": \"rgba(51, 147, 255, 1.0)\", \"dash\": \"solid\", \"shape\": \"linear\", \"width\": 1.3}, \"mode\": \"lines\", \"name\": \"Global CO2 Emissions per Capita\", \"text\": \"\", \"x\": [\"1960-12-31\", \"1961-12-31\", \"1962-12-31\", \"1963-12-31\", \"1964-12-31\", \"1965-12-31\", \"1966-12-31\", \"1967-12-31\", \"1968-12-31\", \"1969-12-31\", \"1970-12-31\", \"1971-12-31\", \"1972-12-31\", \"1973-12-31\", \"1974-12-31\", \"1975-12-31\", \"1976-12-31\", \"1977-12-31\", \"1978-12-31\", \"1979-12-31\", \"1980-12-31\", \"1981-12-31\", \"1982-12-31\", \"1983-12-31\", \"1984-12-31\", \"1985-12-31\", \"1986-12-31\", \"1987-12-31\", \"1988-12-31\", \"1989-12-31\", \"1990-12-31\", \"1991-12-31\", \"1992-12-31\", \"1993-12-31\", \"1994-12-31\", \"1995-12-31\", \"1996-12-31\", \"1997-12-31\", \"1998-12-31\", \"1999-12-31\", \"2000-12-31\", \"2001-12-31\", \"2002-12-31\", \"2003-12-31\", \"2004-12-31\", \"2005-12-31\", \"2006-12-31\", \"2007-12-31\", \"2008-12-31\", \"2009-12-31\", \"2010-12-31\", \"2011-12-31\", \"2012-12-31\", \"2013-12-31\", \"2014-12-31\", \"2015-12-31\", \"2016-12-31\", \"2017-12-31\", \"2018-12-31\"], \"y\": [3.0990134461537897, 3.06972701834951, 3.1405114564922796, 3.24449883461939, 3.36059627301937, 3.4390994493764597, 3.53761777761217, 3.57598760074636, 3.6820043371844196, 3.8217267418312, 4.0124221416258905, 4.071638385150339, 4.15522707213128, 4.29547054814401, 4.22022672435856, 4.11673055177987, 4.2809968745807305, 4.3385901257979, 4.31472703052706, 4.47723059891963, 4.3529752124957, 4.14499002214937, 4.03601239303614, 3.9485840636426497, 4.01967082073237, 4.06889483324752, 4.11899594385358, 4.1468421085430895, 4.22121579699668, 4.2382473258395805, 4.18853443335987, 4.16779393594322, 4.0630801386868, 3.99687679199773, 4.00648912508173, 4.03191340642106, 4.06642274310816, 4.0777747918894, 4.04521394813147, 3.9821101308386804, 4.03319022967413, 4.07599485730396, 4.08357220402861, 4.252864823977871, 4.4090606996537804, 4.5228010359500095, 4.63049619432102, 4.665488103306321, 4.75616035280856, 4.65604440536345, 4.82806936244497, 4.96758098934546, 4.99621141959404, 4.98773904748779, 4.96997394966849, 4.96997394966849, 4.96997394966849, 4.96997394966849, 4.96997394966849], \"type\": \"scatter\", \"uid\": \"8e8b2465-b657-4c54-b546-16ffe20d6e06\"}], {\"legend\": {\"bgcolor\": \"#F5F6F9\", \"font\": {\"color\": \"#4D5663\"}}, \"paper_bgcolor\": \"#F5F6F9\", \"plot_bgcolor\": \"#F5F6F9\", \"title\": \"Global CO2 Emission over Time\", \"titlefont\": {\"color\": \"#4D5663\"}, \"xaxis\": {\"gridcolor\": \"#E1E5ED\", \"showgrid\": true, \"tickfont\": {\"color\": \"#4D5663\"}, \"title\": \"Time (years)\", \"titlefont\": {\"color\": \"#4D5663\"}, \"zerolinecolor\": \"#E1E5ED\"}, \"yaxis\": {\"gridcolor\": \"#E1E5ED\", \"showgrid\": true, \"tickfont\": {\"color\": \"#4D5663\"}, \"title\": \"Emissions (Metric Tons per Capita)\", \"titlefont\": {\"color\": \"#4D5663\"}, \"zerolinecolor\": \"#E1E5ED\"}}, {\"showLink\": true, \"linkText\": \"Export to plot.ly\", \"plotlyServerURL\": \"https://plot.ly\"})});</script><script type=\"text/javascript\">window.addEventListener(\"resize\", function(){window._Plotly.Plots.resize(document.getElementById(\"b493f619-d75b-4c4a-8801-2cd68d8b1d2b\"));});</script>"
      ],
      "text/vnd.plotly.v1+html": [
       "<div id=\"b493f619-d75b-4c4a-8801-2cd68d8b1d2b\" style=\"height: 525px; width: 100%;\" class=\"plotly-graph-div\"></div><script type=\"text/javascript\">require([\"plotly\"], function(Plotly) { window.PLOTLYENV=window.PLOTLYENV || {};window.PLOTLYENV.BASE_URL=\"https://plot.ly\";Plotly.newPlot(\"b493f619-d75b-4c4a-8801-2cd68d8b1d2b\", [{\"line\": {\"color\": \"rgba(51, 147, 255, 1.0)\", \"dash\": \"solid\", \"shape\": \"linear\", \"width\": 1.3}, \"mode\": \"lines\", \"name\": \"Global CO2 Emissions per Capita\", \"text\": \"\", \"x\": [\"1960-12-31\", \"1961-12-31\", \"1962-12-31\", \"1963-12-31\", \"1964-12-31\", \"1965-12-31\", \"1966-12-31\", \"1967-12-31\", \"1968-12-31\", \"1969-12-31\", \"1970-12-31\", \"1971-12-31\", \"1972-12-31\", \"1973-12-31\", \"1974-12-31\", \"1975-12-31\", \"1976-12-31\", \"1977-12-31\", \"1978-12-31\", \"1979-12-31\", \"1980-12-31\", \"1981-12-31\", \"1982-12-31\", \"1983-12-31\", \"1984-12-31\", \"1985-12-31\", \"1986-12-31\", \"1987-12-31\", \"1988-12-31\", \"1989-12-31\", \"1990-12-31\", \"1991-12-31\", \"1992-12-31\", \"1993-12-31\", \"1994-12-31\", \"1995-12-31\", \"1996-12-31\", \"1997-12-31\", \"1998-12-31\", \"1999-12-31\", \"2000-12-31\", \"2001-12-31\", \"2002-12-31\", \"2003-12-31\", \"2004-12-31\", \"2005-12-31\", \"2006-12-31\", \"2007-12-31\", \"2008-12-31\", \"2009-12-31\", \"2010-12-31\", \"2011-12-31\", \"2012-12-31\", \"2013-12-31\", \"2014-12-31\", \"2015-12-31\", \"2016-12-31\", \"2017-12-31\", \"2018-12-31\"], \"y\": [3.0990134461537897, 3.06972701834951, 3.1405114564922796, 3.24449883461939, 3.36059627301937, 3.4390994493764597, 3.53761777761217, 3.57598760074636, 3.6820043371844196, 3.8217267418312, 4.0124221416258905, 4.071638385150339, 4.15522707213128, 4.29547054814401, 4.22022672435856, 4.11673055177987, 4.2809968745807305, 4.3385901257979, 4.31472703052706, 4.47723059891963, 4.3529752124957, 4.14499002214937, 4.03601239303614, 3.9485840636426497, 4.01967082073237, 4.06889483324752, 4.11899594385358, 4.1468421085430895, 4.22121579699668, 4.2382473258395805, 4.18853443335987, 4.16779393594322, 4.0630801386868, 3.99687679199773, 4.00648912508173, 4.03191340642106, 4.06642274310816, 4.0777747918894, 4.04521394813147, 3.9821101308386804, 4.03319022967413, 4.07599485730396, 4.08357220402861, 4.252864823977871, 4.4090606996537804, 4.5228010359500095, 4.63049619432102, 4.665488103306321, 4.75616035280856, 4.65604440536345, 4.82806936244497, 4.96758098934546, 4.99621141959404, 4.98773904748779, 4.96997394966849, 4.96997394966849, 4.96997394966849, 4.96997394966849, 4.96997394966849], \"type\": \"scatter\", \"uid\": \"8e8b2465-b657-4c54-b546-16ffe20d6e06\"}], {\"legend\": {\"bgcolor\": \"#F5F6F9\", \"font\": {\"color\": \"#4D5663\"}}, \"paper_bgcolor\": \"#F5F6F9\", \"plot_bgcolor\": \"#F5F6F9\", \"title\": \"Global CO2 Emission over Time\", \"titlefont\": {\"color\": \"#4D5663\"}, \"xaxis\": {\"gridcolor\": \"#E1E5ED\", \"showgrid\": true, \"tickfont\": {\"color\": \"#4D5663\"}, \"title\": \"Time (years)\", \"titlefont\": {\"color\": \"#4D5663\"}, \"zerolinecolor\": \"#E1E5ED\"}, \"yaxis\": {\"gridcolor\": \"#E1E5ED\", \"showgrid\": true, \"tickfont\": {\"color\": \"#4D5663\"}, \"title\": \"Emissions (Metric Tons per Capita)\", \"titlefont\": {\"color\": \"#4D5663\"}, \"zerolinecolor\": \"#E1E5ED\"}}, {\"showLink\": true, \"linkText\": \"Export to plot.ly\", \"plotlyServerURL\": \"https://plot.ly\"})});</script><script type=\"text/javascript\">window.addEventListener(\"resize\", function(){window._Plotly.Plots.resize(document.getElementById(\"b493f619-d75b-4c4a-8801-2cd68d8b1d2b\"));});</script>"
      ]
     },
     "metadata": {},
     "output_type": "display_data"
    }
   ],
   "source": [
    "e.iplot(kind='line', xTitle='Time (years)', color='#3393FF',\n",
    "                  yTitle='Emissions (Metric Tons per Capita)', title='Global CO2 Emission over Time')"
   ]
  },
  {
   "cell_type": "markdown",
   "metadata": {},
   "source": [
    "# Timeseries Correlation"
   ]
  },
  {
   "cell_type": "markdown",
   "metadata": {},
   "source": [
    "## Granger Causality"
   ]
  },
  {
   "cell_type": "markdown",
   "metadata": {},
   "source": [
    "## Dynamic Time Warping"
   ]
  },
  {
   "cell_type": "code",
   "execution_count": null,
   "metadata": {},
   "outputs": [],
   "source": [
    "# The above will be available in another post soon! The post will also use these same two time series."
   ]
  },
  {
   "cell_type": "markdown",
   "metadata": {},
   "source": [
    "# Time Series Modelling and Forecasting"
   ]
  },
  {
   "cell_type": "markdown",
   "metadata": {},
   "source": [
    "## Facebook Prophet"
   ]
  },
  {
   "cell_type": "code",
   "execution_count": 30,
   "metadata": {},
   "outputs": [],
   "source": [
    "t_prophet = pd.DataFrame()\n",
    "t_prophet['ds'] = t.index\n",
    "t_prophet['y'] = t['Avg_Anomaly_deg_C'].values"
   ]
  },
  {
   "cell_type": "code",
   "execution_count": 31,
   "metadata": {},
   "outputs": [
    {
     "name": "stderr",
     "output_type": "stream",
     "text": [
      "INFO:fbprophet:Disabling weekly seasonality. Run prophet with weekly_seasonality=True to override this.\n",
      "INFO:fbprophet:Disabling daily seasonality. Run prophet with daily_seasonality=True to override this.\n",
      "/Users/pst-home/anaconda3/envs/data_science/lib/python3.6/site-packages/pystan/misc.py:399: FutureWarning:\n",
      "\n",
      "Conversion of the second argument of issubdtype from `float` to `np.floating` is deprecated. In future, it will be treated as `np.float64 == np.dtype(float).type`.\n",
      "\n"
     ]
    },
    {
     "data": {
      "text/plain": [
       "<fbprophet.forecaster.Prophet at 0x1a107cb320>"
      ]
     },
     "execution_count": 31,
     "metadata": {},
     "output_type": "execute_result"
    }
   ],
   "source": [
    "m = Prophet()\n",
    "m.fit(t_prophet)"
   ]
  },
  {
   "cell_type": "code",
   "execution_count": 32,
   "metadata": {},
   "outputs": [],
   "source": [
    "# Make future dataframes\n",
    "future = m.make_future_dataframe(freq='m', periods=100*12)\n",
    "forecast = m.predict(future)"
   ]
  },
  {
   "cell_type": "code",
   "execution_count": 33,
   "metadata": {},
   "outputs": [
    {
     "data": {
      "image/png": "[encoded data removed]",
      "text/plain": [
       "<Figure size 720x432 with 1 Axes>"
      ]
     },
     "metadata": {},
     "output_type": "display_data"
    }
   ],
   "source": [
    "m.plot(forecast);"
   ]
  },
  {
   "cell_type": "code",
   "execution_count": 34,
   "metadata": {},
   "outputs": [
    {
     "data": {
      "image/png": "[encoded data removed]",
      "text/plain": [
       "<Figure size 648x432 with 2 Axes>"
      ]
     },
     "metadata": {},
     "output_type": "display_data"
    }
   ],
   "source": [
    "m.plot_components(forecast);"
   ]
  },
  {
   "cell_type": "markdown",
   "metadata": {},
   "source": [
    "## Autoregressive Integrated Moving Average (ARIMA)"
   ]
  },
  {
   "cell_type": "code",
   "execution_count": null,
   "metadata": {},
   "outputs": [],
   "source": [
    "# This will also be available in a future post"
   ]
  },
  {
   "cell_type": "markdown",
   "metadata": {},
   "source": [
    "# THE END"
   ]
  }
 ],
 "metadata": {
  "kernelspec": {
   "display_name": "Python 3",
   "language": "python",
   "name": "python3"
  },
  "language_info": {
   "codemirror_mode": {
    "name": "ipython",
    "version": 3
   },
   "file_extension": ".py",
   "mimetype": "text/x-python",
   "name": "python",
   "nbconvert_exporter": "python",
   "pygments_lexer": "ipython3",
   "version": "3.6.8"
  },
  "pycharm": {
   "stem_cell": {
    "cell_type": "raw",
    "source": [
     "\n",
     ".\n",
     ".00."
    ],
    "metadata": {
     "collapsed": false
    }
   }
  }
 },
 "nbformat": 4,
 "nbformat_minor": 2
}